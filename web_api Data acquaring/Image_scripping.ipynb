{
 "cells": [
  {
   "cell_type": "code",
   "execution_count": 2,
   "metadata": {},
   "outputs": [
    {
     "name": "stdout",
     "output_type": "stream",
     "text": [
      "Requirement already satisfied: requests in c:\\users\\vaibh\\.conda\\envs\\myenv\\lib\\site-packages (2.23.0)\n",
      "Requirement already satisfied: chardet<4,>=3.0.2 in c:\\users\\vaibh\\.conda\\envs\\myenv\\lib\\site-packages (from requests) (3.0.4)\n",
      "Requirement already satisfied: idna<3,>=2.5 in c:\\users\\vaibh\\.conda\\envs\\myenv\\lib\\site-packages (from requests) (2.9)\n",
      "Requirement already satisfied: urllib3!=1.25.0,!=1.25.1,<1.26,>=1.21.1 in c:\\users\\vaibh\\.conda\\envs\\myenv\\lib\\site-packages (from requests) (1.25.9)\n",
      "Requirement already satisfied: certifi>=2017.4.17 in c:\\users\\vaibh\\.conda\\envs\\myenv\\lib\\site-packages (from requests) (2020.4.5.1)\n"
     ]
    }
   ],
   "source": [
    "!pip install requests"
   ]
  },
  {
   "cell_type": "code",
   "execution_count": 3,
   "metadata": {},
   "outputs": [
    {
     "name": "stdout",
     "output_type": "stream",
     "text": [
      "Collecting html5lib\n",
      "  Downloading html5lib-1.0.1-py2.py3-none-any.whl (117 kB)\n",
      "Requirement already satisfied: six>=1.9 in c:\\users\\vaibh\\.conda\\envs\\myenv\\lib\\site-packages (from html5lib) (1.14.0)\n",
      "Requirement already satisfied: webencodings in c:\\users\\vaibh\\.conda\\envs\\myenv\\lib\\site-packages (from html5lib) (0.5.1)\n",
      "Installing collected packages: html5lib\n",
      "Successfully installed html5lib-1.0.1\n"
     ]
    }
   ],
   "source": [
    "!pip install html5lib\n"
   ]
  },
  {
   "cell_type": "code",
   "execution_count": 54,
   "metadata": {},
   "outputs": [
    {
     "data": {
      "text/plain": [
       "b'<!DOCTYPE html>\\n<html class=\"no-js\" dir=\"ltr\" lang=\"en-US\">\\n    <head>\\n        <title>Inspirational Quotes - Motivational Quotes - Leadership Quotes | Page 2 | PassItOn.com</title>\\n        <meta charset=\"utf-8\">\\n        <meta http-equiv=\"content-type\" content=\"text/html; charset=utf-8\" />\\n        <meta http-equiv=\"X-UA-Compatible\" content=\"IE=edge\" />\\n        <meta name=\"viewport\" content=\"width=device-width,initial-scale=1.0,maximum-scale=1\" />\\n        <meta name=\"description\" content=\"The Foundation for a Better Life | Pass It On.com\">\\n        <link rel=\"apple-touch-icon\" sizes=\"180x180\" href=\"/apple-touch-icon.png\">\\n        <link rel=\"icon\" type=\"image/png\" sizes=\"32x32\" href=\"/favicon-32x32.png\">\\n        <link rel=\"icon\" type=\"image/png\" sizes=\"16x16\" href=\"/favicon-16x16.png\">\\n        <link rel=\"manifest\" href=\"/site.webmanifest\">\\n        <link rel=\"mask-icon\" href=\"/safari-pinned-tab.svg\" color=\"#c8102e\">\\n        <meta name=\"msapplication-TileColor\" content=\"#c8102e\">\\n        <meta name=\"theme-color\" content=\"#ffffff\">\\n        <link rel=\"stylesheet\" href=\"https://stackpath.bootstrapcdn.com/bootstrap/4.3.1/css/bootstrap.min.css\" integrity=\"sha384-ggOyR0iXCbMQv3Xipma34MD+dH/1fQ784/j6cY/iJTQUOhcWr7x9JvoRxT2MZw1T\" crossorigin=\"anonymous\">\\n        <link rel=\"stylesheet\" media=\"all\" href=\"/assets/application-37a5d7aa5ae64e3dfae4be1c91df4127.css\" />\\n        <meta name=\"csrf-param\" content=\"authenticity_token\" />\\n<meta name=\"csrf-token\" content=\"F1VAYG7XZy1010/52/BKfluBYNIuu8MLuVwIIJNHpq39bh3ZgwoFOAo4JNA/dBHQVFj/CKQ45SdjSFET04wTjg==\" />\\n        <!-- Global site tag (gtag.js) - Google Analytics -->\\n        <script async src=\"https://www.googletagmanager.com/gtag/js?id=UA-1179606-29\"></script>\\n        <script>\\n          window.dataLayer = window.dataLayer || [];\\n          function gtag(){dataLayer.push(arguments);}\\n          gtag(\\'js\\', new Date());\\n          gtag(\\'config\\', \\'UA-1179606-29\\');\\n        </script>\\n\\n        <script>\\n          window.fbAsyncInit = function() {\\n            FB.init({\\n              appId            : \\'483774921971842\\',\\n              autoLogAppEvents : true,\\n              xfbml            : true,\\n              version          : \\'v6.0\\'\\n            });\\n          };\\n        </script>\\n        <script async defer src=\"https://connect.facebook.net/en_US/sdk.js\"></script>\\n\\n        <meta property=\"og:site_name\" content=\"passiton.com\">\\n        <meta property=\"og:title\" content=\"Inspirational Quotes - Motivational Quotes - Leadership Quotes | Page 2\" />\\n        <meta property=\"og:type\" content=\"website\" />\\n        <meta property=\"og:image\" content=\"https://www.passiton.com/passiton.jpg\" />\\n        <meta property=\"og:url\" content=\"https://www.passiton.com/inspirational-quotes?page=2\" />\\n        <meta property=\"og:description\" content=\"Find the perfect quotation from our hand-picked collection of inspiring quotes by hundreds of authors. | Page 2\" />\\n        <meta property=\"fb:app_id\" content=\"483774921971842\" />\\n\\n        <meta name=\"twitter:card\" content=\"summary_large_image\" />\\n        <meta name=\"twitter:site\" content=\"@passiton\" />\\n        <meta name=\"twitter:creator\" content=\"@passiton\">\\n        <meta name=\"twitter:title\" content=\"Inspirational Quotes - Motivational Quotes - Leadership Quotes | Page 2\" />\\n        <meta name=\"twitter:description\" content=\"Find the perfect quotation from our hand-picked collection of inspiring quotes by hundreds of authors. | Page 2\" />\\n        <meta name=\"twitter:image\" content=\"https://www.passiton.com/passiton.jpg\" />\\n        <meta name=\"twitter:url\" content=\"https://www.passiton.com/inspirational-quotes?page=2\" />\\n\\n        <meta itemprop=\"name\" content=\"passiton.com\">\\n        <meta itemprop=\"description\" content=\"Find the perfect quotation from our hand-picked collection of inspiring quotes by hundreds of authors. | Page 2\">\\n        <meta itemprop=\"image\" content=\"https://www.passiton.com/passiton.jpg\">\\n\\n        <link rel=\"apple-touch-icon\" sizes=\"180x180\" href=\"/apple-touch-icon.png\">\\n        <link rel=\"icon\" type=\"image/png\" sizes=\"32x32\" href=\"/favicon-32x32.png\">\\n        <link rel=\"icon\" type=\"image/png\" sizes=\"16x16\" href=\"/favicon-16x16.png\">\\n        <link rel=\"mask-icon\" href=\"/passiton_arrow.svg\" color=\"#C8102E\">\\n        <link rel=\"manifest\" href=\"/manifest.json\">\\n        <link rel=\"mask-icon\" href=\"/safari-pinned-tab.svg\" color=\"#5bbad5\">\\n        <meta name=\"apple-mobile-web-app-title\" content=\"passiton\">\\n        <meta name=\"application-name\" content=\"passiton\">\\n        <meta name=\"theme-color\" content=\"#f1f1f1\">\\n        \\n    </head>\\n    <body class=\\'no-transition quotes_index\\'>\\n        <header>\\n    <nav class=\"navbar navbar-default bootsnav navbar-fixed-top header-dark white-link background-transparent nav-box-width white-link navbar-expand-lg\">\\n        <div class=\"container-fluid nav-header-container\">\\n            <div class=\"col-auto pl-0\">\\n\\n                    <a class=\"logo\" title=\"Pass It On\\xc2\\xae\" href=\"/\"><img data-rjs=\"/assets/pofo/logo@2x-77b9f4fa1e4bafa6ff119f8f162b7bd9.png\" class=\"logo-dark\" alt=\"Pass It On\" src=\"/assets/pofo/logo-6d680decaadef58e4fbb586e147bc135.png\" /><img data-rjs=\"/assets/pofo/logo-white@2x-82bf2486063a48e9207811cc7f6d5e5f.png\" class=\"logo-light default\" alt=\"Pass It On\" src=\"/assets/pofo/logo-white-2d99f390ad2f6d3bbf59a52aadb55d60.png\" /></a>\\n\\n            </div>\\n            <div class=\"col accordion-menu pr-0 pr-md-3\">\\n                <button type=\"button\" class=\"navbar-toggler collapsed\" data-toggle=\"collapse\" data-target=\"#navbar-collapse-toggle-1\">\\n                    <span class=\"sr-only\">toggle navigation</span>\\n                    <span class=\"icon-bar\"></span>\\n                    <span class=\"icon-bar\"></span>\\n                    <span class=\"icon-bar\"></span>\\n                </button>\\n                <div class=\"navbar-collapse collapse justify-content-end\" id=\"navbar-collapse-toggle-1\">\\n                    <ul id=\"accordion\" class=\"nav navbar-nav no-margin alt-font text-normal\" data-in=\"fadeIn\" data-out=\"fadeOut\">\\n                        <li><a href=\"/inspirational-quotes\">Quotes</a></li>\\n                        <li><a href=\"/inspirational-stories-tv-spots\">Videos</a></li>\\n                        <li class=\"dropdown simple-dropdown\"><a href=\"/inspirational-sayings-billboards\">Billboards <i class=\\'fas fa-angle-down dropdown-toggle\\' data-toggle=\\'dropdown\\' aria-hidden=\\'true\\'></i></a>\\n                            <ul class=\"dropdown-menu\" role=\"menu\">\\n                                <li><a href=\"/inspirational-sayings-billboards\">Official Billboards</a>\\n                                <li><a href=\"/is-in-you\">Is In You\\xc2\\xae Billboards</a>\\n                                <li><a href=\"/your-billboards\">Create Your Own Billboard</a>\\n                            </ul>\\n                        </li>\\n                        <li><a href=\"/radio\">Radio Ads</a></li>\\n                        <li class=\"dropdown simple-dropdown\"><a href=\"#\">Language <i class=\"fas fa-angle-down dropdown-toggle\" data-toggle=\"dropdown\" aria-hidden=\"true\"></i></a>\\n                            <ul class=\"dropdown-menu\" role=\"menu\">\\n                                <li><a target=\"_blank\" href=\"https://www.pasala.org/\">Spanish | Espa\\xc3\\xb1ol</a>\\n                                <li><a target=\"_blank\" href=\"https://www.umavidamelhor.org/\">Portuguese | Portugu\\xc3\\xaas</a>\\n                                <li><a target=\"_blank\" href=\"https://www.values.cn.com/\">Chinese | \\xe4\\xb8\\xad\\xe6\\x96\\x87</a>\\n                            </ul>\\n                        </li>\\n                    </ul>\\n                </div>\\n            </div>\\n            <div class=\"col-auto pr-0\">\\n                <div class=\"header-searchbar\">\\n                    <a href=\"#search-header\" class=\"header-search-form\"><i class=\"fas fa-search search-button\"></i></a>\\n                    <form id=\"search-header\" method=\"post\" action=\"/search\" name=\"search-header\" class=\"mfp-hide search-form-result\">\\n                        <div class=\"search-form position-relative\">\\n                            <button type=\"submit\" class=\"fas fa-search close-search search-button\"></button>\\n                            <input type=\"text\" name=\"q\" class=\"search-input\" placeholder=\"Search passiton.com...\" autocomplete=\"off\">\\n                        </div>\\n                    </form>\\n                </div>\\n                <div class=\"header-social-icon d-none d-md-inline-block\">\\n                    <a href=\"https://www.facebook.com/valuescom\" title=\"Facebook\" target=\"_blank\"><i class=\"fab fa-facebook-f\" aria-hidden=\"true\"></i></a>\\n                    <a href=\"https://twitter.com/passiton_values\" title=\"Twitter\" target=\"_blank\"><i class=\"fab fa-twitter\"></i></a>\\n                    <a href=\"https://www.instagram.com/passiton_values/\" title=\"Instagram\" target=\"_blank\"><i class=\"fab fa-instagram\" aria-hidden=\"true\"></i></a>\\n                    <a href=\"https://www.pinterest.com/passiton_values/\" title=\"Pinterest\" target=\"_blank\"><i class=\"fab fa-pinterest\" aria-hidden=\"true\"></i></a>\\n                    <a href=\"https://www.youtube.com/c/passiton_values\" title=\"YouTube\" target=\"_blank\"><i class=\"fab fa-youtube no-margin-right\" aria-hidden=\"true\"></i></a>\\n                </div>\\n            </div>\\n        </div>\\n    </nav>\\n</header>\\n        \\n\\n    <section class=\"parallax padding-six-all bg-black\" data-stellar-background-ratio=\"0.2\" style=\"background-image:url(\\'/assets/pofo/flowers-8d19415bc3bc371f5beaed468d9a1970.jpg\\');\">\\n        <div class=\"container\">\\n            <div class=\"row justify-content-center\">\\n                <div class=\"col-12 col-lg-10 text-center\">\\n                    <div class=\"shadow bg-extra-dark-gray padding-two-all border-radius-6 width-70 lg-width-80 sm-width-100 mx-auto lg-padding-30px-all sm-padding-15px-all sm-margin-40px-top\">\\n                        <h6 class=\"font-weight-300 text-white-2 margin-20px-bottom sm-margin-15px-bottom\">Get our FREE daily quote emails!</h6>\\n                        <p class=\"text-medium width-70 mx-auto margin-40px-bottom sm-width-100 sm-margin-15px-bottom\">Get a daily inspirational quote in your inbox each weekday! Enter your email below to subscribe.</p>\\n\\n                        <form class=\"simple_form search-box3 margin-10px-bottom\" novalidate=\"novalidate\" id=\"new_user\" action=\"/users\" accept-charset=\"UTF-8\" method=\"post\"><input name=\"utf8\" type=\"hidden\" value=\"&#x2713;\" /><input type=\"hidden\" name=\"authenticity_token\" value=\"ZDyqIFHsBqMFkZkDH3dEe1tWTm0AMzizlbJVE5eoJK6OB/eZvDFktnt+8ir78x/VVI/Rt4qwHp9Ppgwg12ORjQ==\" />\\n                            <div class=\"input-group add-on width-75 mx-auto sm-width-100\">\\n                                <input label=\"false\" class=\"string email optional form-control text-white\" type=\"text\" placeholder=\"you@your-email.com\" name=\"user[email]\" id=\"user_email\" />\\n                                <script src=\"https://www.recaptcha.net/recaptcha/api.js?render=6Ldta8EUAAAAACp3yt76yG8QWMdQkpDBkP1bcHi6\"   ></script>\\n        <script>\\n          // Define function so that we can call it again later if we need to reset it\\n          // This executes reCAPTCHA and then calls our callback.\\n          function executeRecaptchaForQuote() {\\n            grecaptcha.ready(function() {\\n              grecaptcha.execute(\\'6Ldta8EUAAAAACp3yt76yG8QWMdQkpDBkP1bcHi6\\', {action: \\'quote\\'}).then(function(token) {\\n                setInputWithRecaptchaResponseTokenForQuote(\\'g-recaptcha-response-data-quote\\', token)\\n              });\\n            });\\n          };\\n          // Invoke immediately\\n          executeRecaptchaForQuote()\\n\\n          // Async variant so you can await this function from another async function (no need for\\n          // an explicit callback function then!)\\n          // Returns a Promise that resolves with the response token.\\n          async function executeRecaptchaForQuoteAsync() {\\n            return new Promise((resolve, reject) => {\\n              grecaptcha.ready(async function() {\\n                resolve(await grecaptcha.execute(\\'6Ldta8EUAAAAACp3yt76yG8QWMdQkpDBkP1bcHi6\\', {action: \\'quote\\'}))\\n              });\\n            })\\n          };\\n\\n                    var setInputWithRecaptchaResponseTokenForQuote = function(id, token) {\\n            var element = document.getElementById(id);\\n            element.value = token;\\n          }\\n\\n        </script>\\n<input type=\"hidden\" name=\"g-recaptcha-response-data[quote]\" id=\"g-recaptcha-response-data-quote\" data-sitekey=\"6Ldta8EUAAAAACp3yt76yG8QWMdQkpDBkP1bcHi6\" class=\"g-recaptcha g-recaptcha-response \"/>\\n\\n                                <div class=\"input-group-append\">\\n                                    <button type=\"submit\" class=\"btn btn-default\"><i class=\"ti-arrow-right text-small m-0\"></i></button>\\n                                </div>\\n                            </div>\\n                            <input value=\"\" type=\"hidden\" name=\"user[first_name]\" id=\"user_first_name\" />\\n                            <input value=\"\" type=\"hidden\" name=\"user[last_name]\" id=\"user_last_name\" />\\n                            <input value=\"quotes_form\" type=\"hidden\" name=\"user[whence]\" id=\"user_whence\" />\\n</form>\\n\\n                    </div>\\n                </div>\\n            </div>\\n        </div>\\n    </section>\\n\\n\\n<section class=\"half-section bg-extra-dark-gray half-section\">\\n    <div class=\"container\">\\n\\n        <div class=\"row m-0\">\\n            <div class=\"col-12 d-flex flex-column justify-content-center text-center wow fadeIn\" data-wow-delay=\"0.2s\">\\n                <h5 class=\"text-white alt-font font-weight-400 letter-spacing-1 margin-10px-bottom\">INSPIRATIONAL QUOTES</h5>\\n                <span class=\"text-white-2 opacity8 alt-font mb-0 padding-20px-bottom\">Find the perfect quote... and Pass It On\\xc2\\xae</span>\\n\\n                <form class=\"search-box2 margin-30px-bottom\" action=\"/inspirational-quotes\" method=\"get\">\\n                    <div class=\"input-group add-on width-75 mx-auto sm-width-100\">\\n                        <input name=\"q\" type=\"text\" value=\\'\\' placeholder=\"Search our inspiring quotes...\" class=\"form-control\" />\\n                        <div class=\"input-group-append\">\\n                            <button type=\"submit\" class=\"btn btn-default\"><i class=\"ti-search text-small m-0\"></i></button>\\n                        </div>\\n                    </div>\\n                </form>\\n\\n            </div>\\n        </div>\\n\\n        <div class=\\'row\\' id=\\'all_quotes\\'>\\n            <div class=\"col-6 col-lg-3 text-center margin-30px-bottom sm-margin-30px-top\">\\n\\n        <a href=\"/inspirational-quotes/6905-if-we-had-no-winter-the-spring-would-not-be-so\"><img alt=\"If we had no winter, the spring would not be so pleasant; if we did not sometimes taste of adversity, prosperity would not be so welcome. #&lt;Author:0x00007f8ddf6f77b8&gt;\" class=\"margin-10px-bottom shadow\" src=\"https://assets.passiton.com/quotes/quote_artwork/6905/medium/20200401_wednesday_quote.jpg?1585244244\" width=\"310\" height=\"310\" /></a>\\n        <h5 class=\\'value_on_red\\'><a href=\"/inspirational-quotes/6905-if-we-had-no-winter-the-spring-would-not-be-so\">OPTIMISM</a></h5>\\n\\n</div><div class=\"col-6 col-lg-3 text-center margin-30px-bottom sm-margin-30px-top\">\\n\\n        <a href=\"/inspirational-quotes/3623-the-greatest-discovery-of-my-generation-is-that\"><img alt=\"The greatest discovery of my generation is that human beings can alter their lives by altering their attitudes of mind. #&lt;Author:0x00007f8ddf721f18&gt;\" class=\"margin-10px-bottom shadow\" src=\"https://assets.passiton.com/quotes/quote_artwork/3623/medium/20200331_tuesday_quote.jpg?1585244218\" width=\"310\" height=\"310\" /></a>\\n        <h5 class=\\'value_on_red\\'><a href=\"/inspirational-quotes/3623-the-greatest-discovery-of-my-generation-is-that\">OPTIMISM</a></h5>\\n\\n</div><div class=\"col-6 col-lg-3 text-center margin-30px-bottom sm-margin-30px-top\">\\n\\n        <a href=\"/inspirational-quotes/7377-love-is-better-than-anger-hope-is-better-than\"><img alt=\"Love is better than anger. Hope is better than fear. Optimism is better than despair. So let us be loving, hopeful and optimistic. And we\\xe2\\x80\\x99ll change the world. #&lt;Author:0x00007f8ddf74a788&gt;\" class=\"margin-10px-bottom shadow\" src=\"https://assets.passiton.com/quotes/quote_artwork/7377/medium/20200330_monday_quote_alt.jpg?1585330598\" width=\"310\" height=\"310\" /></a>\\n        <h5 class=\\'value_on_red\\'><a href=\"/inspirational-quotes/7377-love-is-better-than-anger-hope-is-better-than\">OPTIMISM</a></h5>\\n\\n</div><div class=\"col-6 col-lg-3 text-center margin-30px-bottom sm-margin-30px-top\">\\n\\n        <a href=\"/inspirational-quotes/8054-knowledge-comes-from-learning-wisdom-comes\"><img alt=\"Knowledge comes from learning. Wisdom comes from living. #&lt;Author:0x00007f8ddf770cf8&gt;\" class=\"margin-10px-bottom shadow\" src=\"https://assets.passiton.com/quotes/quote_artwork/8054/medium/20200327_friday_quote.jpg?1584726568\" width=\"310\" height=\"310\" /></a>\\n        <h5 class=\\'value_on_red\\'><a href=\"/inspirational-quotes/8054-knowledge-comes-from-learning-wisdom-comes\">WISDOM</a></h5>\\n\\n</div><div class=\"col-6 col-lg-3 text-center margin-30px-bottom sm-margin-30px-top\">\\n\\n        <a href=\"/inspirational-quotes/8053-it-is-said-that-wisdom-lies-not-in-seeing\"><img alt=\"It is said that wisdom lies not in seeing things, but seeing through things. #&lt;Author:0x00007f8ddf79b1b0&gt;\" class=\"margin-10px-bottom shadow\" src=\"https://assets.passiton.com/quotes/quote_artwork/8053/medium/20200326_thursday_quote.jpg?1584726539\" width=\"310\" height=\"310\" /></a>\\n        <h5 class=\\'value_on_red\\'><a href=\"/inspirational-quotes/8053-it-is-said-that-wisdom-lies-not-in-seeing\">WISDOM</a></h5>\\n\\n</div><div class=\"col-6 col-lg-3 text-center margin-30px-bottom sm-margin-30px-top\">\\n\\n        <a href=\"/inspirational-quotes/4069-we-are-made-wise-not-by-the-recollection-of-our\"><img alt=\"We are made wise not by the recollection of our past, but by the responsibility for our future. #&lt;Author:0x00007f8ddf7c5b90&gt;\" class=\"margin-10px-bottom shadow\" src=\"https://assets.passiton.com/quotes/quote_artwork/4069/medium/20200325_wednesday_quote_alternate.jpg?1584748370\" width=\"310\" height=\"310\" /></a>\\n        <h5 class=\\'value_on_red\\'><a href=\"/inspirational-quotes/4069-we-are-made-wise-not-by-the-recollection-of-our\">WISDOM</a></h5>\\n\\n</div><div class=\"col-6 col-lg-3 text-center margin-30px-bottom sm-margin-30px-top\">\\n\\n        <a href=\"/inspirational-quotes/8052-never-mistake-knowledge-for-wisdom-one-helps\"><img alt=\"Never mistake knowledge for wisdom. One helps you make a living; the other helps you make a life. #&lt;Author:0x00007f8ddf7fbdf8&gt;\" class=\"margin-10px-bottom shadow\" src=\"https://assets.passiton.com/quotes/quote_artwork/8052/medium/20200324_tuesday_quote.jpg?1584726475\" width=\"310\" height=\"310\" /></a>\\n        <h5 class=\\'value_on_red\\'><a href=\"/inspirational-quotes/8052-never-mistake-knowledge-for-wisdom-one-helps\">WISDOM</a></h5>\\n\\n</div><div class=\"col-6 col-lg-3 text-center margin-30px-bottom sm-margin-30px-top\">\\n\\n        <a href=\"/inspirational-quotes/6246-the-invariable-mark-of-wisdom-is-to-see-the\"><img alt=\"The invariable mark of wisdom is to see the miraculous in the common. #&lt;Author:0x00007f8ddf83f878&gt;\" class=\"margin-10px-bottom shadow\" src=\"https://assets.passiton.com/quotes/quote_artwork/6246/medium/20200323_monday_quote.jpg?1584726442\" width=\"310\" height=\"310\" /></a>\\n        <h5 class=\\'value_on_red\\'><a href=\"/inspirational-quotes/6246-the-invariable-mark-of-wisdom-is-to-see-the\">WISDOM</a></h5>\\n\\n</div><div class=\"col-6 col-lg-3 text-center margin-30px-bottom sm-margin-30px-top\">\\n\\n        <a href=\"/inspirational-quotes/6554-life-has-many-ways-of-testing-a-persons-will\"><img alt=\"Life has many ways of testing a person&#39;s will, either by having nothing happen at all or by having everything happen all at once. #&lt;Author:0x00007f8ddf86e9e8&gt;\" class=\"margin-10px-bottom shadow\" src=\"https://assets.passiton.com/quotes/quote_artwork/6554/medium/20200320_friday_quote.jpg?1584123864\" width=\"310\" height=\"310\" /></a>\\n        <h5 class=\\'value_on_red\\'><a href=\"/inspirational-quotes/6554-life-has-many-ways-of-testing-a-persons-will\">RESILIENCE</a></h5>\\n\\n</div><div class=\"col-6 col-lg-3 text-center margin-30px-bottom sm-margin-30px-top\">\\n\\n        <a href=\"/inspirational-quotes/7817-difficulties-are-meant-to-rouse-not\"><img alt=\"Difficulties are meant to rouse, not discourage. The human spirit is to grow strong by conflict. #&lt;Author:0x00007f8ddf88c998&gt;\" class=\"margin-10px-bottom shadow\" src=\"https://assets.passiton.com/quotes/quote_artwork/7817/medium/20200319_thursday_quote.jpg?1584123829\" width=\"310\" height=\"310\" /></a>\\n        <h5 class=\\'value_on_red\\'><a href=\"/inspirational-quotes/7817-difficulties-are-meant-to-rouse-not\">RESILIENCE</a></h5>\\n\\n</div><div class=\"col-6 col-lg-3 text-center margin-30px-bottom sm-margin-30px-top\">\\n\\n        <a href=\"/inspirational-quotes/6119-we-need-to-remember-that-circumstances-don-t\"><img alt=\"We need to remember that circumstances don\\xe2\\x80\\x99t make a person, they reveal a person.  #&lt;Author:0x00007f8ddf8b0460&gt;\" class=\"margin-10px-bottom shadow\" src=\"https://assets.passiton.com/quotes/quote_artwork/6119/medium/20200318_wednesday_quote.jpg?1584123795\" width=\"310\" height=\"310\" /></a>\\n        <h5 class=\\'value_on_red\\'><a href=\"/inspirational-quotes/6119-we-need-to-remember-that-circumstances-don-t\">RESILIENCE</a></h5>\\n\\n</div><div class=\"col-6 col-lg-3 text-center margin-30px-bottom sm-margin-30px-top\">\\n\\n        <a href=\"/inspirational-quotes/6739-no-soul-that-aspires-can-ever-fail-to-rise-no\"><img alt=\"No soul that aspires can ever fail to rise; no heart that loves can ever be abandoned. Difficulties exist only that in overcoming them we may grow strong, and they who have suffered are able to save. #&lt;Author:0x00007f8ddf8e2d98&gt;\" class=\"margin-10px-bottom shadow\" src=\"https://assets.passiton.com/quotes/quote_artwork/6739/medium/20200317_tuesday_quote.jpg?1584123766\" width=\"310\" height=\"310\" /></a>\\n        <h5 class=\\'value_on_red\\'><a href=\"/inspirational-quotes/6739-no-soul-that-aspires-can-ever-fail-to-rise-no\">RESILIENCE</a></h5>\\n\\n</div><div class=\"col-6 col-lg-3 text-center margin-30px-bottom sm-margin-30px-top\">\\n\\n        <a href=\"/inspirational-quotes/6940-hardships-often-prepare-ordinary-people-for-an\"><img alt=\"Hardships often prepare ordinary people for an extraordinary destiny. #&lt;Author:0x00007f8ddf923000&gt;\" class=\"margin-10px-bottom shadow\" src=\"https://assets.passiton.com/quotes/quote_artwork/6940/medium/20200316_monday_quote_alternate.jpg?1584125137\" width=\"310\" height=\"310\" /></a>\\n        <h5 class=\\'value_on_red\\'><a href=\"/inspirational-quotes/6940-hardships-often-prepare-ordinary-people-for-an\">RESILIENCE</a></h5>\\n\\n</div><div class=\"col-6 col-lg-3 text-center margin-30px-bottom sm-margin-30px-top\">\\n\\n        <a href=\"/inspirational-quotes/8049-for-beautiful-eyes-look-for-the-good-in\"><img alt=\"For beautiful eyes, look for the good in others; for beautiful lips, speak only words of kindness; and for poise, walk with the knowledge that you are never alone. #&lt;Author:0x00007f8ddf955dc0&gt;\" class=\"margin-10px-bottom shadow\" src=\"https://assets.passiton.com/quotes/quote_artwork/8049/medium/20200313_friday_quote.jpg?1583521746\" width=\"310\" height=\"310\" /></a>\\n        <h5 class=\\'value_on_red\\'><a href=\"/inspirational-quotes/8049-for-beautiful-eyes-look-for-the-good-in\">TRUE BEAUTY</a></h5>\\n\\n</div><div class=\"col-6 col-lg-3 text-center margin-30px-bottom sm-margin-30px-top\">\\n\\n        <a href=\"/inspirational-quotes/8048-beauty-is-the-illumination-of-your-soul\"><img alt=\"Beauty is the illumination of your soul. #&lt;Author:0x00007f8ddf990920&gt;\" class=\"margin-10px-bottom shadow\" src=\"https://assets.passiton.com/quotes/quote_artwork/8048/medium/20200312_thursday_quote.jpg?1583521723\" width=\"310\" height=\"310\" /></a>\\n        <h5 class=\\'value_on_red\\'><a href=\"/inspirational-quotes/8048-beauty-is-the-illumination-of-your-soul\">TRUE BEAUTY</a></h5>\\n\\n</div><div class=\"col-6 col-lg-3 text-center margin-30px-bottom sm-margin-30px-top\">\\n\\n        <a href=\"/inspirational-quotes/7605-beauty-is-about-being-comfortable-in-your-own\"><img alt=\"Beauty is about being comfortable in your own skin. It&#39;s about knowing and accepting who you are. #&lt;Author:0x00007f8ddf9c6980&gt;\" class=\"margin-10px-bottom shadow\" src=\"https://assets.passiton.com/quotes/quote_artwork/7605/medium/20200311_wednesday_quote_fixed.jpg?1583782466\" width=\"310\" height=\"310\" /></a>\\n        <h5 class=\\'value_on_red\\'><a href=\"/inspirational-quotes/7605-beauty-is-about-being-comfortable-in-your-own\">TRUE BEAUTY</a></h5>\\n\\n</div><div class=\"col-6 col-lg-3 text-center margin-30px-bottom sm-margin-30px-top\">\\n\\n        <a href=\"/inspirational-quotes/7746-beauty-begins-the-moment-you-decide-to-be\"><img alt=\"Beauty begins the moment you decide to be yourself. #&lt;Author:0x00007f8ddf9f9fd8&gt;\" class=\"margin-10px-bottom shadow\" src=\"https://assets.passiton.com/quotes/quote_artwork/7746/medium/20200310_tuesday_quote.jpg?1583521584\" width=\"310\" height=\"310\" /></a>\\n        <h5 class=\\'value_on_red\\'><a href=\"/inspirational-quotes/7746-beauty-begins-the-moment-you-decide-to-be\">TRUE BEAUTY</a></h5>\\n\\n</div><div class=\"col-6 col-lg-3 text-center margin-30px-bottom sm-margin-30px-top\">\\n\\n        <a href=\"/inspirational-quotes/7260-beauty-is-not-in-the-face-beauty-is-a-light-in\"><img alt=\"Beauty is not in the face; beauty is a light in the heart. #&lt;Author:0x00007f8ddfa29cd8&gt;\" class=\"margin-10px-bottom shadow\" src=\"https://assets.passiton.com/quotes/quote_artwork/7260/medium/20200309_monday_quote.jpg?1583521556\" width=\"310\" height=\"310\" /></a>\\n        <h5 class=\\'value_on_red\\'><a href=\"/inspirational-quotes/7260-beauty-is-not-in-the-face-beauty-is-a-light-in\">TRUE BEAUTY</a></h5>\\n\\n</div><div class=\"col-6 col-lg-3 text-center margin-30px-bottom sm-margin-30px-top\">\\n\\n        <a href=\"/inspirational-quotes/8047-life-should-not-be-a-journey-to-the-grave-with\"><img alt=\"Life should not be a journey to the grave with the intention of arriving safely in a pretty and well-preserved body, but rather to skid in broadside in a cloud of smoke, thoroughly used up, totally worn out, and loudly proclaiming \\xe2\\x80\\x9cWow! What a Ride!\\xe2\\x80\\x9d  #&lt;Author:0x00007f8ddfa5c5c0&gt;\" class=\"margin-10px-bottom shadow\" src=\"https://assets.passiton.com/quotes/quote_artwork/8047/medium/20200306_friday_quote.jpg?1582921356\" width=\"310\" height=\"310\" /></a>\\n        <h5 class=\\'value_on_red\\'><a href=\"/inspirational-quotes/8047-life-should-not-be-a-journey-to-the-grave-with\">SPREAD YOUR WINGS</a></h5>\\n\\n</div><div class=\"col-6 col-lg-3 text-center margin-30px-bottom sm-margin-30px-top\">\\n\\n        <a href=\"/inspirational-quotes/8046-if-we-were-meant-to-stay-in-one-place-we-d\"><img alt=\"If we were meant to stay in one place, we\\xe2\\x80\\x99d have roots instead of feet. #&lt;Author:0x00007f8ddfaa3470&gt;\" class=\"margin-10px-bottom shadow\" src=\"https://assets.passiton.com/quotes/quote_artwork/8046/medium/20200305_thursday_quote.jpg?1582921071\" width=\"310\" height=\"310\" /></a>\\n        <h5 class=\\'value_on_red\\'><a href=\"/inspirational-quotes/8046-if-we-were-meant-to-stay-in-one-place-we-d\">SPREAD YOUR WINGS</a></h5>\\n\\n</div><div class=\"col-6 col-lg-3 text-center margin-30px-bottom sm-margin-30px-top\">\\n\\n        <a href=\"/inspirational-quotes/8045-if-you-are-making-mistakes-then-you-are-making\"><img alt=\"If you are making mistakes, then you are making new things, trying new things, learning, living, pushing yourself, changing yourself, changing your world. You&#39;re doing things you&#39;ve never done before, and more importantly, you&#39;re doing something. #&lt;Author:0x00007f8ddfad93b8&gt;\" class=\"margin-10px-bottom shadow\" src=\"https://assets.passiton.com/quotes/quote_artwork/8045/medium/20200304_wednesday_quote.jpg?1582921036\" width=\"310\" height=\"310\" /></a>\\n        <h5 class=\\'value_on_red\\'><a href=\"/inspirational-quotes/8045-if-you-are-making-mistakes-then-you-are-making\">SPREAD YOUR WINGS</a></h5>\\n\\n</div><div class=\"col-6 col-lg-3 text-center margin-30px-bottom sm-margin-30px-top\">\\n\\n        <a href=\"/inspirational-quotes/8044-practice-the-art-of-adventure-by-breaking-the\"><img alt=\"Practice the art of adventure by breaking the chain of routine, renewing your life through reading new books, traveling to new places, making new friends, taking up new hobbies and adopting new viewpoints. #&lt;Author:0x00007f8ddfb11ce0&gt;\" class=\"margin-10px-bottom shadow\" src=\"https://assets.passiton.com/quotes/quote_artwork/8044/medium/20200303_tuesday_quote.jpg?1582920987\" width=\"310\" height=\"310\" /></a>\\n        <h5 class=\\'value_on_red\\'><a href=\"/inspirational-quotes/8044-practice-the-art-of-adventure-by-breaking-the\">SPREAD YOUR WINGS</a></h5>\\n\\n</div><div class=\"col-6 col-lg-3 text-center margin-30px-bottom sm-margin-30px-top\">\\n\\n        <a href=\"/inspirational-quotes/8043-when-you-come-to-the-edge-of-all-that-you-know\"><img alt=\"When you come to the edge of all that you know, you must believe one of two things: either there will be ground to stand on, or you will be given wings to fly. #&lt;Author:0x00007f8ddfb3de30&gt;\" class=\"margin-10px-bottom shadow\" src=\"https://assets.passiton.com/quotes/quote_artwork/8043/medium/20200302_monday_quote.jpg?1582920839\" width=\"310\" height=\"310\" /></a>\\n        <h5 class=\\'value_on_red\\'><a href=\"/inspirational-quotes/8043-when-you-come-to-the-edge-of-all-that-you-know\">SPREAD YOUR WINGS</a></h5>\\n\\n</div><div class=\"col-6 col-lg-3 text-center margin-30px-bottom sm-margin-30px-top\">\\n\\n        <a href=\"/inspirational-quotes/8042-pursue-your-passion-and-everything-else-will\"><img alt=\"Pursue your passion, and everything else will fall into place. This is not being romantic. This is the highest order of pragmatism. #&lt;Author:0x00007f8ddfb750b0&gt;\" class=\"margin-10px-bottom shadow\" src=\"https://assets.passiton.com/quotes/quote_artwork/8042/medium/20200228_friday_quote.jpg?1582225721\" width=\"310\" height=\"310\" /></a>\\n        <h5 class=\\'value_on_red\\'><a href=\"/inspirational-quotes/8042-pursue-your-passion-and-everything-else-will\">PASSION</a></h5>\\n\\n</div><div class=\"col-6 col-lg-3 text-center margin-30px-bottom sm-margin-30px-top\">\\n\\n        <a href=\"/inspirational-quotes/8041-passion-is-the-genesis-of-genius\"><img alt=\"Passion is the genesis of genius. #&lt;Author:0x00007f8ddfbbd798&gt;\" class=\"margin-10px-bottom shadow\" src=\"https://assets.passiton.com/quotes/quote_artwork/8041/medium/20200227_thursday_quote.jpg?1582225699\" width=\"310\" height=\"310\" /></a>\\n        <h5 class=\\'value_on_red\\'><a href=\"/inspirational-quotes/8041-passion-is-the-genesis-of-genius\">PASSION</a></h5>\\n\\n</div><div class=\"col-6 col-lg-3 text-center margin-30px-bottom sm-margin-30px-top\">\\n\\n        <a href=\"/inspirational-quotes/8040-chase-down-your-passion-like-it-s-the-last-bus\"><img alt=\"Chase down your passion like it\\xe2\\x80\\x99s the last bus of the night. #&lt;Author:0x00007f8dde60c980&gt;\" class=\"margin-10px-bottom shadow\" src=\"https://assets.passiton.com/quotes/quote_artwork/8040/medium/20200226_wednesday_quote.jpg?1582225676\" width=\"310\" height=\"310\" /></a>\\n        <h5 class=\\'value_on_red\\'><a href=\"/inspirational-quotes/8040-chase-down-your-passion-like-it-s-the-last-bus\">PASSION</a></h5>\\n\\n</div><div class=\"col-6 col-lg-3 text-center margin-30px-bottom sm-margin-30px-top\">\\n\\n        <a href=\"/inspirational-quotes/8039-if-you-feel-like-there-s-something-out-there\"><img alt=\"If you feel like there\\xe2\\x80\\x99s something out there that you\\xe2\\x80\\x99re supposed to be doing, if you have a passion for it, then stop wishing and just do it. #&lt;Author:0x00007f8ddfc2b338&gt;\" class=\"margin-10px-bottom shadow\" src=\"https://assets.passiton.com/quotes/quote_artwork/8039/medium/20200225_tuesday_quote.jpg?1582225655\" width=\"310\" height=\"310\" /></a>\\n        <h5 class=\\'value_on_red\\'><a href=\"/inspirational-quotes/8039-if-you-feel-like-there-s-something-out-there\">PASSION</a></h5>\\n\\n</div><div class=\"col-6 col-lg-3 text-center margin-30px-bottom sm-margin-30px-top\">\\n\\n        <a href=\"/inspirational-quotes/8038-only-passions-great-passions-can-elevate-the\"><img alt=\"Only passions, great passions, can elevate the soul to great things. #&lt;Author:0x00007f8ddfc59f58&gt;\" class=\"margin-10px-bottom shadow\" src=\"https://assets.passiton.com/quotes/quote_artwork/8038/medium/20200224_monday_quote.jpg?1582225624\" width=\"310\" height=\"310\" /></a>\\n        <h5 class=\\'value_on_red\\'><a href=\"/inspirational-quotes/8038-only-passions-great-passions-can-elevate-the\">PASSION</a></h5>\\n\\n</div><div class=\"col-6 col-lg-3 text-center margin-30px-bottom sm-margin-30px-top\">\\n\\n        <a href=\"/inspirational-quotes/6732-become-a-possibilitarian-no-matter-how-dark\"><img alt=\"Become a possibilitarian. No matter how dark things seem to be or actually are, raise your sights and see possibilities\\xe2\\x80\\x94always see them, for they\\xe2\\x80\\x99re always there. #&lt;Author:0x00007f8ddfca46e8&gt;\" class=\"margin-10px-bottom shadow\" src=\"https://assets.passiton.com/quotes/quote_artwork/6732/medium/20200221_friday_quote_alt.jpg?1581798126\" width=\"310\" height=\"310\" /></a>\\n        <h5 class=\\'value_on_red\\'><a href=\"/inspirational-quotes/6732-become-a-possibilitarian-no-matter-how-dark\">OPTIMISM</a></h5>\\n\\n</div><div class=\"col-6 col-lg-3 text-center margin-30px-bottom sm-margin-30px-top\">\\n\\n        <a href=\"/inspirational-quotes/8037-choose-to-be-optimistic-it-feels-better\"><img alt=\"Choose to be optimistic, it feels better. #&lt;Author:0x00007f8ddfcc6400&gt;\" class=\"margin-10px-bottom shadow\" src=\"https://assets.passiton.com/quotes/quote_artwork/8037/medium/20200220_thursday_quote_alt.jpg?1581798108\" width=\"310\" height=\"310\" /></a>\\n        <h5 class=\\'value_on_red\\'><a href=\"/inspirational-quotes/8037-choose-to-be-optimistic-it-feels-better\">OPTIMISM</a></h5>\\n\\n</div><div class=\"col-6 col-lg-3 text-center margin-30px-bottom sm-margin-30px-top\">\\n\\n        <a href=\"/inspirational-quotes/6615-happiness-can-be-found-in-even-the-darkest-of\"><img alt=\"Happiness can be found in even the darkest of times, if only one remembers to turn on the light. #&lt;Author:0x00007f8ddfcf2a78&gt;\" class=\"margin-10px-bottom shadow\" src=\"https://assets.passiton.com/quotes/quote_artwork/6615/medium/20200219_wednesday_quote.jpg?1581786402\" width=\"310\" height=\"310\" /></a>\\n        <h5 class=\\'value_on_red\\'><a href=\"/inspirational-quotes/6615-happiness-can-be-found-in-even-the-darkest-of\">OPTIMISM</a></h5>\\n\\n</div><div class=\"col-6 col-lg-3 text-center margin-30px-bottom sm-margin-30px-top\">\\n\\n        <a href=\"/inspirational-quotes/6241-nothing-is-impossible-the-word-itself-says\"><img alt=\"Nothing is impossible, the word itself says, \\xe2\\x80\\x98I\\xe2\\x80\\x99m possible\\xe2\\x80\\x99! #&lt;Author:0x00007f8ddfd266e8&gt;\" class=\"margin-10px-bottom shadow\" src=\"https://assets.passiton.com/quotes/quote_artwork/6241/medium/20200218_tuesday_quote.jpg?1581786378\" width=\"310\" height=\"310\" /></a>\\n        <h5 class=\\'value_on_red\\'><a href=\"/inspirational-quotes/6241-nothing-is-impossible-the-word-itself-says\">OPTIMISM</a></h5>\\n\\n</div>\\n        </div>\\n\\n        <div class=\"row\">\\n            <div class=\"col-12 text-center\">\\n                <div class=\"quotes_pagination\"><a class=\"previous_page\" rel=\"prev\" href=\"/inspirational-quotes?page=1\">&#8592; Previous</a> <a rel=\"prev\" href=\"/inspirational-quotes?page=1\">1</a> <em class=\"current\">2</em> <a rel=\"next\" href=\"/inspirational-quotes?page=3\">3</a> <a href=\"/inspirational-quotes?page=4\">4</a> <a href=\"/inspirational-quotes?page=5\">5</a> <a href=\"/inspirational-quotes?page=6\">6</a> <a href=\"/inspirational-quotes?page=7\">7</a> <a href=\"/inspirational-quotes?page=8\">8</a> <a href=\"/inspirational-quotes?page=9\">9</a> <span class=\"gap\">&hellip;</span> <a href=\"/inspirational-quotes?page=116\">116</a> <a href=\"/inspirational-quotes?page=117\">117</a> <a class=\"next_page\" rel=\"next\" href=\"/inspirational-quotes?page=3\">Next &#8594;</a></div>\\n            </div>\\n        </div>\\n\\n    </div>\\n</section>\\n        <footer class=\"footer-classic-dark bg-extra-dark-gray padding-five-bottom sm-padding-30px-bottom\">\\n    <div class=\"bg-dark-footer padding-50px-tb sm-padding-30px-tb\">\\n        <div class=\"container\">\\n            <div class=\"row align-items-center\">\\n\\n                <div class=\"col-lg-4 col-md-5 text-center alt-font sm-margin-15px-bottom\">\\n                    Pass It On<sup>\\xc2\\xae</sup>\\n                </div>\\n\\n                <div class=\"col-lg-4 col-md-2 text-center sm-margin-10px-bottom\">\\n                    <a href=\"/\"><img class=\"footer-logo\" data-rjs=\"/assets/pofo/fbl_logo-b50da7cb3567063fca4dec74f28f07c4.png\" alt=\"The Foundation for a Better Life\" src=\"/assets/pofo/fbl_logo-b50da7cb3567063fca4dec74f28f07c4.png\" /></a>\\n                </div>\\n\\n                <div class=\"col-lg-4 col-md-5 text-center\">\\n                    <span class=\"alt-font margin-20px-right\">Follow us on social</span>\\n                    <div class=\"social-icon-style-8 d-inline-block vertical-align-middle\">\\n                        <ul class=\"small-icon mb-0\">\\n                            <li><a class=\"facebook text-white-2\" href=\"https://www.facebook.com/valuescom\" target=\"_blank\"><i class=\"fab fa-facebook-f\" aria-hidden=\"true\"></i></a></li>\\n                            <li><a class=\"twitter text-white-2\" href=\"https://twitter.com/passiton_values\" target=\"_blank\"><i class=\"fab fa-twitter\"></i></a></li>\\n                            <li><a class=\"instagram text-white-2\" href=\"https://www.instagram.com/passiton_values/\" target=\"_blank\"><i class=\"fab fa-instagram no-margin-right\" aria-hidden=\"true\"></i></a></li>\\n                            <li><a class=\"pinterest text-white-2\" href=\"https://www.pinterest.com/passiton_values/\" target=\"_blank\"><i class=\"fab fa-pinterest no-margin-right\" aria-hidden=\"true\"></i></a></li>\\n                            <li><a class=\"youtube text-white-2\" href=\"https://www.youtube.com/c/passiton_values\" target=\"_blank\"><i class=\"fab fa-youtube no-margin-right\" aria-hidden=\"true\"></i></a></li>\\n                        </ul>\\n                    </div>\\n                </div>\\n\\n            </div>\\n        </div>\\n    </div>\\n    <div class=\"footer-widget-area padding-five-top padding-30px-bottom sm-padding-30px-top\">\\n        <div class=\"container\">\\n            <div class=\"row\">\\n\\n                <div class=\"col-lg-3 col-md-6 widget border-right border-color-medium-dark-gray padding-45px-left md-padding-15px-left md-no-border-right md-margin-30px-bottom text-center text-md-left\">\\n                    <div class=\"widget-title alt-font text-small text-medium-gray text-uppercase margin-10px-bottom font-weight-600\">About Us</div>\\n                    <ul class=\"list-unstyled\">\\n                        <li><a class=\"text-small\" href=\"/who-we-are\">About The Foundation for a Better Life</a></li>\\n                        <li><a class=\"text-small\" href=\"/faqs\">FAQs</a></li>\\n                        <li><a class=\"text-small\" href=\"/foundation-recognition\">Foundation Recognition</a></li>\\n                        <li><a class=\"text-small\" href=\"/contact-us\">Contact Us</a></li>\\n                    </ul>\\n                </div>\\n\\n                <div class=\"col-lg-3 col-md-6 widget border-right border-color-medium-dark-gray padding-45px-left md-padding-15px-left md-no-border-right md-margin-30px-bottom text-center text-md-left\">\\n                    <div class=\"widget-title alt-font text-small text-medium-gray text-uppercase margin-10px-bottom font-weight-600\">Be Inspired</div>\\n                    <ul class=\"list-unstyled\">\\n                        <li><a class=\"text-small\" href=\"/teaching-values\">Teaching Values</a></li>\\n                        <li><a class=\"text-small\" href=\"/inspirational-quotes\">Inspirational Quotations</a></li>\\n                        <li><a class=\"text-small\" href=\"/inspirational-stories-tv-spots\">Pass It On\\xc2\\xae Videos</a></li>\\n                        <li><a class=\"text-small\" href=\"/your-everyday-heroes\">Who&#39;s Your Hero Stories</a></li>\\n                        <li><a class=\"text-small\" href=\"/your-inspirational-stories\">Value Stories</a></li>\\n                        <li><a class=\"text-small\" href=\"/inspirational-sayings-billboards\">Official Billboard Campaign</a></li>\\n                        <li><a class=\"text-small\" href=\"/your-billboards\">Create Your Own Billboard</a></li>\\n                        <li><a class=\"text-small\" href=\"/radio\">Radio Ads</a></li>\\n                        <li><a class=\"text-small\" href=\"/inspirational-audio-stories\">Podcasts</a></li>\\n                        <li><a class=\"text-small\" href=\"/pass-it-on-ecards\">Send an Ecard</a></li>\\n                    </ul>\\n                </div>\\n\\n                <div class=\"col-lg-3 col-md-6 widget border-right border-color-medium-dark-gray padding-45px-left md-padding-15px-left md-no-border-right md-margin-30px-bottom text-center text-md-left\">\\n                    <div class=\"widget-title alt-font text-small text-medium-gray text-uppercase margin-10px-bottom font-weight-600\">For Schools</div>\\n                    <ul class=\"list-unstyled\">\\n                        <li><a class=\"text-small\" href=\"/poster-requests/new\">Free Posters &amp; DVD for Schools</a></li>\\n                        <li><a class=\"text-small\" href=\"/pass-it-on-downloads\">Downloads</a></li>\\n                    </ul>\\n                </div>\\n\\n                <div class=\"col-lg-3 col-md-6 widget padding-45px-left md-padding-15px-left md-no-border-right md-margin-30px-bottom text-center text-md-left\">\\n                    <div class=\"widget-title alt-font text-small text-medium-gray text-uppercase margin-10px-bottom font-weight-600\">For Media Companies</div>\\n                    <ul class=\"list-unstyled\">\\n                        <li><a class=\"text-small\" href=\"/for-media-companies\">For Media Companies</a></li>\\n                        <li><a class=\"text-small\" href=\"https://www.passiton-media.com\">Broadcast Quality PSA Downloads</a></li>\\n                        <li><a class=\"text-small\" href=\"https://www.passiton-media.com\">Pass It On Radio Ads</a></li>\\n                        <li><a class=\"text-small\" href=\"https://www.passiton-media.com\">Live Reads</a></li>\\n                        <li><a class=\"text-small\" href=\"https://www.passiton-media.com\">Out of Home Materials</a></li>\\n                    </ul>\\n                    <div class=\\'row sm-margin-30px-top\\'>\\n                        <div class=\\'col-lg-4\\'>\\n                            <a href=\"/\"><img style=\"max-width: 70px;\" src=\"/assets/values_logo-cd29ec5f2f086673ac42962263d07e02.png\" alt=\"Values logo\" /></a>\\n                        </div>\\n                        <div class=\\'col-lg-7\\'>\\n                            <p class=\\'text-medium-gray text-small padding-10px-top\\'>VALUES.COM<small>\\xc2\\xae</small> is now PassItOn.com<small>\\xc2\\xae</small></p>\\n                        </div>\\n                    </div>\\n                </div>\\n\\n            </div>\\n        </div>\\n    </div>\\n    <div class=\"container\">\\n        <div class=\"footer-bottom border-top border-color-medium-dark-gray padding-30px-top\">\\n            <div class=\"row\">\\n                <div class=\"col-lg-6 col-md-6 text-small text-md-left text-center\">\\xc2\\xa92000-2020 The Foundation for a Better Life.</div>\\n                <div class=\"col-lg-6 col-md-6 text-small text-md-right text-center\"><a href=\"/privacy-policy\">Privacy Policy</a>&nbsp;&nbsp;&nbsp;|&nbsp;&nbsp;&nbsp;<a href=\"/terms-of-use\">Terms of Use</a></div>\\n            </div>\\n        </div>\\n    </div>\\n</footer>\\n        <a class=\"scroll-top-arrow\" href=\"javascript:void(0);\"><i class=\"ti-arrow-up\"></i></a>\\n        <script src=\"https://cdnjs.cloudflare.com/ajax/libs/jquery/1.12.4/jquery.js\"></script>\\n        <script src=\"https://cdnjs.cloudflare.com/ajax/libs/popper.js/1.14.7/umd/popper.min.js\" integrity=\"sha384-UO2eT0CpHqdSJQ6hJty5KVphtPhzWj9WO1clHTMGa3JDZwrnQq4sF86dIHNDz0W1\" crossorigin=\"anonymous\"></script>\\n        <script src=\"https://stackpath.bootstrapcdn.com/bootstrap/4.3.1/js/bootstrap.min.js\" integrity=\"sha384-JjSmVgyd0p3pXB1rRibZUAYoIIy6OrQ6VrjIEaFf/nJGzIxFDsf4x0xIM+B07jRM\" crossorigin=\"anonymous\"></script>\\n        <script src=\"/assets/pofo-3d0d89a27285d93c09e0f4c1fc85cead.js\"></script>\\n        \\n    </body>\\n</html>'"
      ]
     },
     "execution_count": 54,
     "metadata": {},
     "output_type": "execute_result"
    }
   ],
   "source": [
    "import urllib\n",
    "import requests\n",
    "import bs4\n",
    "url=\"https://www.passiton.com/inspirational-quotes?page=2\"\n",
    "response=requests.get(url)\n",
    "response.content"
   ]
  },
  {
   "cell_type": "code",
   "execution_count": 55,
   "metadata": {},
   "outputs": [],
   "source": [
    "soup=bs4.BeautifulSoup(response.content)"
   ]
  },
  {
   "cell_type": "code",
   "execution_count": 56,
   "metadata": {},
   "outputs": [],
   "source": [
    "artical_element=soup.findAll(id='all_quotes')"
   ]
  },
  {
   "cell_type": "code",
   "execution_count": 57,
   "metadata": {},
   "outputs": [
    {
     "data": {
      "text/plain": [
       "[<div class=\"row\" id=\"all_quotes\">\n",
       "             <div class=\"col-6 col-lg-3 text-center margin-30px-bottom sm-margin-30px-top\">\n",
       " \n",
       "         <a href=\"/inspirational-quotes/6905-if-we-had-no-winter-the-spring-would-not-be-so\"><img alt=\"If we had no winter, the spring would not be so pleasant; if we did not sometimes taste of adversity, prosperity would not be so welcome. #&lt;Author:0x00007f8ddf6f77b8&gt;\" class=\"margin-10px-bottom shadow\" height=\"310\" src=\"https://assets.passiton.com/quotes/quote_artwork/6905/medium/20200401_wednesday_quote.jpg?1585244244\" width=\"310\"/></a>\n",
       "         <h5 class=\"value_on_red\"><a href=\"/inspirational-quotes/6905-if-we-had-no-winter-the-spring-would-not-be-so\">OPTIMISM</a></h5>\n",
       " \n",
       " </div><div class=\"col-6 col-lg-3 text-center margin-30px-bottom sm-margin-30px-top\">\n",
       " \n",
       "         <a href=\"/inspirational-quotes/3623-the-greatest-discovery-of-my-generation-is-that\"><img alt=\"The greatest discovery of my generation is that human beings can alter their lives by altering their attitudes of mind. #&lt;Author:0x00007f8ddf721f18&gt;\" class=\"margin-10px-bottom shadow\" height=\"310\" src=\"https://assets.passiton.com/quotes/quote_artwork/3623/medium/20200331_tuesday_quote.jpg?1585244218\" width=\"310\"/></a>\n",
       "         <h5 class=\"value_on_red\"><a href=\"/inspirational-quotes/3623-the-greatest-discovery-of-my-generation-is-that\">OPTIMISM</a></h5>\n",
       " \n",
       " </div><div class=\"col-6 col-lg-3 text-center margin-30px-bottom sm-margin-30px-top\">\n",
       " \n",
       "         <a href=\"/inspirational-quotes/7377-love-is-better-than-anger-hope-is-better-than\"><img alt=\"Love is better than anger. Hope is better than fear. Optimism is better than despair. So let us be loving, hopeful and optimistic. And we’ll change the world. #&lt;Author:0x00007f8ddf74a788&gt;\" class=\"margin-10px-bottom shadow\" height=\"310\" src=\"https://assets.passiton.com/quotes/quote_artwork/7377/medium/20200330_monday_quote_alt.jpg?1585330598\" width=\"310\"/></a>\n",
       "         <h5 class=\"value_on_red\"><a href=\"/inspirational-quotes/7377-love-is-better-than-anger-hope-is-better-than\">OPTIMISM</a></h5>\n",
       " \n",
       " </div><div class=\"col-6 col-lg-3 text-center margin-30px-bottom sm-margin-30px-top\">\n",
       " \n",
       "         <a href=\"/inspirational-quotes/8054-knowledge-comes-from-learning-wisdom-comes\"><img alt=\"Knowledge comes from learning. Wisdom comes from living. #&lt;Author:0x00007f8ddf770cf8&gt;\" class=\"margin-10px-bottom shadow\" height=\"310\" src=\"https://assets.passiton.com/quotes/quote_artwork/8054/medium/20200327_friday_quote.jpg?1584726568\" width=\"310\"/></a>\n",
       "         <h5 class=\"value_on_red\"><a href=\"/inspirational-quotes/8054-knowledge-comes-from-learning-wisdom-comes\">WISDOM</a></h5>\n",
       " \n",
       " </div><div class=\"col-6 col-lg-3 text-center margin-30px-bottom sm-margin-30px-top\">\n",
       " \n",
       "         <a href=\"/inspirational-quotes/8053-it-is-said-that-wisdom-lies-not-in-seeing\"><img alt=\"It is said that wisdom lies not in seeing things, but seeing through things. #&lt;Author:0x00007f8ddf79b1b0&gt;\" class=\"margin-10px-bottom shadow\" height=\"310\" src=\"https://assets.passiton.com/quotes/quote_artwork/8053/medium/20200326_thursday_quote.jpg?1584726539\" width=\"310\"/></a>\n",
       "         <h5 class=\"value_on_red\"><a href=\"/inspirational-quotes/8053-it-is-said-that-wisdom-lies-not-in-seeing\">WISDOM</a></h5>\n",
       " \n",
       " </div><div class=\"col-6 col-lg-3 text-center margin-30px-bottom sm-margin-30px-top\">\n",
       " \n",
       "         <a href=\"/inspirational-quotes/4069-we-are-made-wise-not-by-the-recollection-of-our\"><img alt=\"We are made wise not by the recollection of our past, but by the responsibility for our future. #&lt;Author:0x00007f8ddf7c5b90&gt;\" class=\"margin-10px-bottom shadow\" height=\"310\" src=\"https://assets.passiton.com/quotes/quote_artwork/4069/medium/20200325_wednesday_quote_alternate.jpg?1584748370\" width=\"310\"/></a>\n",
       "         <h5 class=\"value_on_red\"><a href=\"/inspirational-quotes/4069-we-are-made-wise-not-by-the-recollection-of-our\">WISDOM</a></h5>\n",
       " \n",
       " </div><div class=\"col-6 col-lg-3 text-center margin-30px-bottom sm-margin-30px-top\">\n",
       " \n",
       "         <a href=\"/inspirational-quotes/8052-never-mistake-knowledge-for-wisdom-one-helps\"><img alt=\"Never mistake knowledge for wisdom. One helps you make a living; the other helps you make a life. #&lt;Author:0x00007f8ddf7fbdf8&gt;\" class=\"margin-10px-bottom shadow\" height=\"310\" src=\"https://assets.passiton.com/quotes/quote_artwork/8052/medium/20200324_tuesday_quote.jpg?1584726475\" width=\"310\"/></a>\n",
       "         <h5 class=\"value_on_red\"><a href=\"/inspirational-quotes/8052-never-mistake-knowledge-for-wisdom-one-helps\">WISDOM</a></h5>\n",
       " \n",
       " </div><div class=\"col-6 col-lg-3 text-center margin-30px-bottom sm-margin-30px-top\">\n",
       " \n",
       "         <a href=\"/inspirational-quotes/6246-the-invariable-mark-of-wisdom-is-to-see-the\"><img alt=\"The invariable mark of wisdom is to see the miraculous in the common. #&lt;Author:0x00007f8ddf83f878&gt;\" class=\"margin-10px-bottom shadow\" height=\"310\" src=\"https://assets.passiton.com/quotes/quote_artwork/6246/medium/20200323_monday_quote.jpg?1584726442\" width=\"310\"/></a>\n",
       "         <h5 class=\"value_on_red\"><a href=\"/inspirational-quotes/6246-the-invariable-mark-of-wisdom-is-to-see-the\">WISDOM</a></h5>\n",
       " \n",
       " </div><div class=\"col-6 col-lg-3 text-center margin-30px-bottom sm-margin-30px-top\">\n",
       " \n",
       "         <a href=\"/inspirational-quotes/6554-life-has-many-ways-of-testing-a-persons-will\"><img alt=\"Life has many ways of testing a person's will, either by having nothing happen at all or by having everything happen all at once. #&lt;Author:0x00007f8ddf86e9e8&gt;\" class=\"margin-10px-bottom shadow\" height=\"310\" src=\"https://assets.passiton.com/quotes/quote_artwork/6554/medium/20200320_friday_quote.jpg?1584123864\" width=\"310\"/></a>\n",
       "         <h5 class=\"value_on_red\"><a href=\"/inspirational-quotes/6554-life-has-many-ways-of-testing-a-persons-will\">RESILIENCE</a></h5>\n",
       " \n",
       " </div><div class=\"col-6 col-lg-3 text-center margin-30px-bottom sm-margin-30px-top\">\n",
       " \n",
       "         <a href=\"/inspirational-quotes/7817-difficulties-are-meant-to-rouse-not\"><img alt=\"Difficulties are meant to rouse, not discourage. The human spirit is to grow strong by conflict. #&lt;Author:0x00007f8ddf88c998&gt;\" class=\"margin-10px-bottom shadow\" height=\"310\" src=\"https://assets.passiton.com/quotes/quote_artwork/7817/medium/20200319_thursday_quote.jpg?1584123829\" width=\"310\"/></a>\n",
       "         <h5 class=\"value_on_red\"><a href=\"/inspirational-quotes/7817-difficulties-are-meant-to-rouse-not\">RESILIENCE</a></h5>\n",
       " \n",
       " </div><div class=\"col-6 col-lg-3 text-center margin-30px-bottom sm-margin-30px-top\">\n",
       " \n",
       "         <a href=\"/inspirational-quotes/6119-we-need-to-remember-that-circumstances-don-t\"><img alt=\"We need to remember that circumstances don’t make a person, they reveal a person.  #&lt;Author:0x00007f8ddf8b0460&gt;\" class=\"margin-10px-bottom shadow\" height=\"310\" src=\"https://assets.passiton.com/quotes/quote_artwork/6119/medium/20200318_wednesday_quote.jpg?1584123795\" width=\"310\"/></a>\n",
       "         <h5 class=\"value_on_red\"><a href=\"/inspirational-quotes/6119-we-need-to-remember-that-circumstances-don-t\">RESILIENCE</a></h5>\n",
       " \n",
       " </div><div class=\"col-6 col-lg-3 text-center margin-30px-bottom sm-margin-30px-top\">\n",
       " \n",
       "         <a href=\"/inspirational-quotes/6739-no-soul-that-aspires-can-ever-fail-to-rise-no\"><img alt=\"No soul that aspires can ever fail to rise; no heart that loves can ever be abandoned. Difficulties exist only that in overcoming them we may grow strong, and they who have suffered are able to save. #&lt;Author:0x00007f8ddf8e2d98&gt;\" class=\"margin-10px-bottom shadow\" height=\"310\" src=\"https://assets.passiton.com/quotes/quote_artwork/6739/medium/20200317_tuesday_quote.jpg?1584123766\" width=\"310\"/></a>\n",
       "         <h5 class=\"value_on_red\"><a href=\"/inspirational-quotes/6739-no-soul-that-aspires-can-ever-fail-to-rise-no\">RESILIENCE</a></h5>\n",
       " \n",
       " </div><div class=\"col-6 col-lg-3 text-center margin-30px-bottom sm-margin-30px-top\">\n",
       " \n",
       "         <a href=\"/inspirational-quotes/6940-hardships-often-prepare-ordinary-people-for-an\"><img alt=\"Hardships often prepare ordinary people for an extraordinary destiny. #&lt;Author:0x00007f8ddf923000&gt;\" class=\"margin-10px-bottom shadow\" height=\"310\" src=\"https://assets.passiton.com/quotes/quote_artwork/6940/medium/20200316_monday_quote_alternate.jpg?1584125137\" width=\"310\"/></a>\n",
       "         <h5 class=\"value_on_red\"><a href=\"/inspirational-quotes/6940-hardships-often-prepare-ordinary-people-for-an\">RESILIENCE</a></h5>\n",
       " \n",
       " </div><div class=\"col-6 col-lg-3 text-center margin-30px-bottom sm-margin-30px-top\">\n",
       " \n",
       "         <a href=\"/inspirational-quotes/8049-for-beautiful-eyes-look-for-the-good-in\"><img alt=\"For beautiful eyes, look for the good in others; for beautiful lips, speak only words of kindness; and for poise, walk with the knowledge that you are never alone. #&lt;Author:0x00007f8ddf955dc0&gt;\" class=\"margin-10px-bottom shadow\" height=\"310\" src=\"https://assets.passiton.com/quotes/quote_artwork/8049/medium/20200313_friday_quote.jpg?1583521746\" width=\"310\"/></a>\n",
       "         <h5 class=\"value_on_red\"><a href=\"/inspirational-quotes/8049-for-beautiful-eyes-look-for-the-good-in\">TRUE BEAUTY</a></h5>\n",
       " \n",
       " </div><div class=\"col-6 col-lg-3 text-center margin-30px-bottom sm-margin-30px-top\">\n",
       " \n",
       "         <a href=\"/inspirational-quotes/8048-beauty-is-the-illumination-of-your-soul\"><img alt=\"Beauty is the illumination of your soul. #&lt;Author:0x00007f8ddf990920&gt;\" class=\"margin-10px-bottom shadow\" height=\"310\" src=\"https://assets.passiton.com/quotes/quote_artwork/8048/medium/20200312_thursday_quote.jpg?1583521723\" width=\"310\"/></a>\n",
       "         <h5 class=\"value_on_red\"><a href=\"/inspirational-quotes/8048-beauty-is-the-illumination-of-your-soul\">TRUE BEAUTY</a></h5>\n",
       " \n",
       " </div><div class=\"col-6 col-lg-3 text-center margin-30px-bottom sm-margin-30px-top\">\n",
       " \n",
       "         <a href=\"/inspirational-quotes/7605-beauty-is-about-being-comfortable-in-your-own\"><img alt=\"Beauty is about being comfortable in your own skin. It's about knowing and accepting who you are. #&lt;Author:0x00007f8ddf9c6980&gt;\" class=\"margin-10px-bottom shadow\" height=\"310\" src=\"https://assets.passiton.com/quotes/quote_artwork/7605/medium/20200311_wednesday_quote_fixed.jpg?1583782466\" width=\"310\"/></a>\n",
       "         <h5 class=\"value_on_red\"><a href=\"/inspirational-quotes/7605-beauty-is-about-being-comfortable-in-your-own\">TRUE BEAUTY</a></h5>\n",
       " \n",
       " </div><div class=\"col-6 col-lg-3 text-center margin-30px-bottom sm-margin-30px-top\">\n",
       " \n",
       "         <a href=\"/inspirational-quotes/7746-beauty-begins-the-moment-you-decide-to-be\"><img alt=\"Beauty begins the moment you decide to be yourself. #&lt;Author:0x00007f8ddf9f9fd8&gt;\" class=\"margin-10px-bottom shadow\" height=\"310\" src=\"https://assets.passiton.com/quotes/quote_artwork/7746/medium/20200310_tuesday_quote.jpg?1583521584\" width=\"310\"/></a>\n",
       "         <h5 class=\"value_on_red\"><a href=\"/inspirational-quotes/7746-beauty-begins-the-moment-you-decide-to-be\">TRUE BEAUTY</a></h5>\n",
       " \n",
       " </div><div class=\"col-6 col-lg-3 text-center margin-30px-bottom sm-margin-30px-top\">\n",
       " \n",
       "         <a href=\"/inspirational-quotes/7260-beauty-is-not-in-the-face-beauty-is-a-light-in\"><img alt=\"Beauty is not in the face; beauty is a light in the heart. #&lt;Author:0x00007f8ddfa29cd8&gt;\" class=\"margin-10px-bottom shadow\" height=\"310\" src=\"https://assets.passiton.com/quotes/quote_artwork/7260/medium/20200309_monday_quote.jpg?1583521556\" width=\"310\"/></a>\n",
       "         <h5 class=\"value_on_red\"><a href=\"/inspirational-quotes/7260-beauty-is-not-in-the-face-beauty-is-a-light-in\">TRUE BEAUTY</a></h5>\n",
       " \n",
       " </div><div class=\"col-6 col-lg-3 text-center margin-30px-bottom sm-margin-30px-top\">\n",
       " \n",
       "         <a href=\"/inspirational-quotes/8047-life-should-not-be-a-journey-to-the-grave-with\"><img alt=\"Life should not be a journey to the grave with the intention of arriving safely in a pretty and well-preserved body, but rather to skid in broadside in a cloud of smoke, thoroughly used up, totally worn out, and loudly proclaiming “Wow! What a Ride!”  #&lt;Author:0x00007f8ddfa5c5c0&gt;\" class=\"margin-10px-bottom shadow\" height=\"310\" src=\"https://assets.passiton.com/quotes/quote_artwork/8047/medium/20200306_friday_quote.jpg?1582921356\" width=\"310\"/></a>\n",
       "         <h5 class=\"value_on_red\"><a href=\"/inspirational-quotes/8047-life-should-not-be-a-journey-to-the-grave-with\">SPREAD YOUR WINGS</a></h5>\n",
       " \n",
       " </div><div class=\"col-6 col-lg-3 text-center margin-30px-bottom sm-margin-30px-top\">\n",
       " \n",
       "         <a href=\"/inspirational-quotes/8046-if-we-were-meant-to-stay-in-one-place-we-d\"><img alt=\"If we were meant to stay in one place, we’d have roots instead of feet. #&lt;Author:0x00007f8ddfaa3470&gt;\" class=\"margin-10px-bottom shadow\" height=\"310\" src=\"https://assets.passiton.com/quotes/quote_artwork/8046/medium/20200305_thursday_quote.jpg?1582921071\" width=\"310\"/></a>\n",
       "         <h5 class=\"value_on_red\"><a href=\"/inspirational-quotes/8046-if-we-were-meant-to-stay-in-one-place-we-d\">SPREAD YOUR WINGS</a></h5>\n",
       " \n",
       " </div><div class=\"col-6 col-lg-3 text-center margin-30px-bottom sm-margin-30px-top\">\n",
       " \n",
       "         <a href=\"/inspirational-quotes/8045-if-you-are-making-mistakes-then-you-are-making\"><img alt=\"If you are making mistakes, then you are making new things, trying new things, learning, living, pushing yourself, changing yourself, changing your world. You're doing things you've never done before, and more importantly, you're doing something. #&lt;Author:0x00007f8ddfad93b8&gt;\" class=\"margin-10px-bottom shadow\" height=\"310\" src=\"https://assets.passiton.com/quotes/quote_artwork/8045/medium/20200304_wednesday_quote.jpg?1582921036\" width=\"310\"/></a>\n",
       "         <h5 class=\"value_on_red\"><a href=\"/inspirational-quotes/8045-if-you-are-making-mistakes-then-you-are-making\">SPREAD YOUR WINGS</a></h5>\n",
       " \n",
       " </div><div class=\"col-6 col-lg-3 text-center margin-30px-bottom sm-margin-30px-top\">\n",
       " \n",
       "         <a href=\"/inspirational-quotes/8044-practice-the-art-of-adventure-by-breaking-the\"><img alt=\"Practice the art of adventure by breaking the chain of routine, renewing your life through reading new books, traveling to new places, making new friends, taking up new hobbies and adopting new viewpoints. #&lt;Author:0x00007f8ddfb11ce0&gt;\" class=\"margin-10px-bottom shadow\" height=\"310\" src=\"https://assets.passiton.com/quotes/quote_artwork/8044/medium/20200303_tuesday_quote.jpg?1582920987\" width=\"310\"/></a>\n",
       "         <h5 class=\"value_on_red\"><a href=\"/inspirational-quotes/8044-practice-the-art-of-adventure-by-breaking-the\">SPREAD YOUR WINGS</a></h5>\n",
       " \n",
       " </div><div class=\"col-6 col-lg-3 text-center margin-30px-bottom sm-margin-30px-top\">\n",
       " \n",
       "         <a href=\"/inspirational-quotes/8043-when-you-come-to-the-edge-of-all-that-you-know\"><img alt=\"When you come to the edge of all that you know, you must believe one of two things: either there will be ground to stand on, or you will be given wings to fly. #&lt;Author:0x00007f8ddfb3de30&gt;\" class=\"margin-10px-bottom shadow\" height=\"310\" src=\"https://assets.passiton.com/quotes/quote_artwork/8043/medium/20200302_monday_quote.jpg?1582920839\" width=\"310\"/></a>\n",
       "         <h5 class=\"value_on_red\"><a href=\"/inspirational-quotes/8043-when-you-come-to-the-edge-of-all-that-you-know\">SPREAD YOUR WINGS</a></h5>\n",
       " \n",
       " </div><div class=\"col-6 col-lg-3 text-center margin-30px-bottom sm-margin-30px-top\">\n",
       " \n",
       "         <a href=\"/inspirational-quotes/8042-pursue-your-passion-and-everything-else-will\"><img alt=\"Pursue your passion, and everything else will fall into place. This is not being romantic. This is the highest order of pragmatism. #&lt;Author:0x00007f8ddfb750b0&gt;\" class=\"margin-10px-bottom shadow\" height=\"310\" src=\"https://assets.passiton.com/quotes/quote_artwork/8042/medium/20200228_friday_quote.jpg?1582225721\" width=\"310\"/></a>\n",
       "         <h5 class=\"value_on_red\"><a href=\"/inspirational-quotes/8042-pursue-your-passion-and-everything-else-will\">PASSION</a></h5>\n",
       " \n",
       " </div><div class=\"col-6 col-lg-3 text-center margin-30px-bottom sm-margin-30px-top\">\n",
       " \n",
       "         <a href=\"/inspirational-quotes/8041-passion-is-the-genesis-of-genius\"><img alt=\"Passion is the genesis of genius. #&lt;Author:0x00007f8ddfbbd798&gt;\" class=\"margin-10px-bottom shadow\" height=\"310\" src=\"https://assets.passiton.com/quotes/quote_artwork/8041/medium/20200227_thursday_quote.jpg?1582225699\" width=\"310\"/></a>\n",
       "         <h5 class=\"value_on_red\"><a href=\"/inspirational-quotes/8041-passion-is-the-genesis-of-genius\">PASSION</a></h5>\n",
       " \n",
       " </div><div class=\"col-6 col-lg-3 text-center margin-30px-bottom sm-margin-30px-top\">\n",
       " \n",
       "         <a href=\"/inspirational-quotes/8040-chase-down-your-passion-like-it-s-the-last-bus\"><img alt=\"Chase down your passion like it’s the last bus of the night. #&lt;Author:0x00007f8dde60c980&gt;\" class=\"margin-10px-bottom shadow\" height=\"310\" src=\"https://assets.passiton.com/quotes/quote_artwork/8040/medium/20200226_wednesday_quote.jpg?1582225676\" width=\"310\"/></a>\n",
       "         <h5 class=\"value_on_red\"><a href=\"/inspirational-quotes/8040-chase-down-your-passion-like-it-s-the-last-bus\">PASSION</a></h5>\n",
       " \n",
       " </div><div class=\"col-6 col-lg-3 text-center margin-30px-bottom sm-margin-30px-top\">\n",
       " \n",
       "         <a href=\"/inspirational-quotes/8039-if-you-feel-like-there-s-something-out-there\"><img alt=\"If you feel like there’s something out there that you’re supposed to be doing, if you have a passion for it, then stop wishing and just do it. #&lt;Author:0x00007f8ddfc2b338&gt;\" class=\"margin-10px-bottom shadow\" height=\"310\" src=\"https://assets.passiton.com/quotes/quote_artwork/8039/medium/20200225_tuesday_quote.jpg?1582225655\" width=\"310\"/></a>\n",
       "         <h5 class=\"value_on_red\"><a href=\"/inspirational-quotes/8039-if-you-feel-like-there-s-something-out-there\">PASSION</a></h5>\n",
       " \n",
       " </div><div class=\"col-6 col-lg-3 text-center margin-30px-bottom sm-margin-30px-top\">\n",
       " \n",
       "         <a href=\"/inspirational-quotes/8038-only-passions-great-passions-can-elevate-the\"><img alt=\"Only passions, great passions, can elevate the soul to great things. #&lt;Author:0x00007f8ddfc59f58&gt;\" class=\"margin-10px-bottom shadow\" height=\"310\" src=\"https://assets.passiton.com/quotes/quote_artwork/8038/medium/20200224_monday_quote.jpg?1582225624\" width=\"310\"/></a>\n",
       "         <h5 class=\"value_on_red\"><a href=\"/inspirational-quotes/8038-only-passions-great-passions-can-elevate-the\">PASSION</a></h5>\n",
       " \n",
       " </div><div class=\"col-6 col-lg-3 text-center margin-30px-bottom sm-margin-30px-top\">\n",
       " \n",
       "         <a href=\"/inspirational-quotes/6732-become-a-possibilitarian-no-matter-how-dark\"><img alt=\"Become a possibilitarian. No matter how dark things seem to be or actually are, raise your sights and see possibilities—always see them, for they’re always there. #&lt;Author:0x00007f8ddfca46e8&gt;\" class=\"margin-10px-bottom shadow\" height=\"310\" src=\"https://assets.passiton.com/quotes/quote_artwork/6732/medium/20200221_friday_quote_alt.jpg?1581798126\" width=\"310\"/></a>\n",
       "         <h5 class=\"value_on_red\"><a href=\"/inspirational-quotes/6732-become-a-possibilitarian-no-matter-how-dark\">OPTIMISM</a></h5>\n",
       " \n",
       " </div><div class=\"col-6 col-lg-3 text-center margin-30px-bottom sm-margin-30px-top\">\n",
       " \n",
       "         <a href=\"/inspirational-quotes/8037-choose-to-be-optimistic-it-feels-better\"><img alt=\"Choose to be optimistic, it feels better. #&lt;Author:0x00007f8ddfcc6400&gt;\" class=\"margin-10px-bottom shadow\" height=\"310\" src=\"https://assets.passiton.com/quotes/quote_artwork/8037/medium/20200220_thursday_quote_alt.jpg?1581798108\" width=\"310\"/></a>\n",
       "         <h5 class=\"value_on_red\"><a href=\"/inspirational-quotes/8037-choose-to-be-optimistic-it-feels-better\">OPTIMISM</a></h5>\n",
       " \n",
       " </div><div class=\"col-6 col-lg-3 text-center margin-30px-bottom sm-margin-30px-top\">\n",
       " \n",
       "         <a href=\"/inspirational-quotes/6615-happiness-can-be-found-in-even-the-darkest-of\"><img alt=\"Happiness can be found in even the darkest of times, if only one remembers to turn on the light. #&lt;Author:0x00007f8ddfcf2a78&gt;\" class=\"margin-10px-bottom shadow\" height=\"310\" src=\"https://assets.passiton.com/quotes/quote_artwork/6615/medium/20200219_wednesday_quote.jpg?1581786402\" width=\"310\"/></a>\n",
       "         <h5 class=\"value_on_red\"><a href=\"/inspirational-quotes/6615-happiness-can-be-found-in-even-the-darkest-of\">OPTIMISM</a></h5>\n",
       " \n",
       " </div><div class=\"col-6 col-lg-3 text-center margin-30px-bottom sm-margin-30px-top\">\n",
       " \n",
       "         <a href=\"/inspirational-quotes/6241-nothing-is-impossible-the-word-itself-says\"><img alt=\"Nothing is impossible, the word itself says, ‘I’m possible’! #&lt;Author:0x00007f8ddfd266e8&gt;\" class=\"margin-10px-bottom shadow\" height=\"310\" src=\"https://assets.passiton.com/quotes/quote_artwork/6241/medium/20200218_tuesday_quote.jpg?1581786378\" width=\"310\"/></a>\n",
       "         <h5 class=\"value_on_red\"><a href=\"/inspirational-quotes/6241-nothing-is-impossible-the-word-itself-says\">OPTIMISM</a></h5>\n",
       " \n",
       " </div>\n",
       "         </div>]"
      ]
     },
     "execution_count": 57,
     "metadata": {},
     "output_type": "execute_result"
    }
   ],
   "source": [
    "artical_element"
   ]
  },
  {
   "cell_type": "code",
   "execution_count": 63,
   "metadata": {},
   "outputs": [],
   "source": [
    "img_atter=artical_element[0].findAll('img')"
   ]
  },
  {
   "cell_type": "code",
   "execution_count": 64,
   "metadata": {},
   "outputs": [
    {
     "data": {
      "text/plain": [
       "[<img alt=\"If we had no winter, the spring would not be so pleasant; if we did not sometimes taste of adversity, prosperity would not be so welcome. #&lt;Author:0x00007f8ddf6f77b8&gt;\" class=\"margin-10px-bottom shadow\" height=\"310\" src=\"https://assets.passiton.com/quotes/quote_artwork/6905/medium/20200401_wednesday_quote.jpg?1585244244\" width=\"310\"/>,\n",
       " <img alt=\"The greatest discovery of my generation is that human beings can alter their lives by altering their attitudes of mind. #&lt;Author:0x00007f8ddf721f18&gt;\" class=\"margin-10px-bottom shadow\" height=\"310\" src=\"https://assets.passiton.com/quotes/quote_artwork/3623/medium/20200331_tuesday_quote.jpg?1585244218\" width=\"310\"/>,\n",
       " <img alt=\"Love is better than anger. Hope is better than fear. Optimism is better than despair. So let us be loving, hopeful and optimistic. And we’ll change the world. #&lt;Author:0x00007f8ddf74a788&gt;\" class=\"margin-10px-bottom shadow\" height=\"310\" src=\"https://assets.passiton.com/quotes/quote_artwork/7377/medium/20200330_monday_quote_alt.jpg?1585330598\" width=\"310\"/>,\n",
       " <img alt=\"Knowledge comes from learning. Wisdom comes from living. #&lt;Author:0x00007f8ddf770cf8&gt;\" class=\"margin-10px-bottom shadow\" height=\"310\" src=\"https://assets.passiton.com/quotes/quote_artwork/8054/medium/20200327_friday_quote.jpg?1584726568\" width=\"310\"/>,\n",
       " <img alt=\"It is said that wisdom lies not in seeing things, but seeing through things. #&lt;Author:0x00007f8ddf79b1b0&gt;\" class=\"margin-10px-bottom shadow\" height=\"310\" src=\"https://assets.passiton.com/quotes/quote_artwork/8053/medium/20200326_thursday_quote.jpg?1584726539\" width=\"310\"/>,\n",
       " <img alt=\"We are made wise not by the recollection of our past, but by the responsibility for our future. #&lt;Author:0x00007f8ddf7c5b90&gt;\" class=\"margin-10px-bottom shadow\" height=\"310\" src=\"https://assets.passiton.com/quotes/quote_artwork/4069/medium/20200325_wednesday_quote_alternate.jpg?1584748370\" width=\"310\"/>,\n",
       " <img alt=\"Never mistake knowledge for wisdom. One helps you make a living; the other helps you make a life. #&lt;Author:0x00007f8ddf7fbdf8&gt;\" class=\"margin-10px-bottom shadow\" height=\"310\" src=\"https://assets.passiton.com/quotes/quote_artwork/8052/medium/20200324_tuesday_quote.jpg?1584726475\" width=\"310\"/>,\n",
       " <img alt=\"The invariable mark of wisdom is to see the miraculous in the common. #&lt;Author:0x00007f8ddf83f878&gt;\" class=\"margin-10px-bottom shadow\" height=\"310\" src=\"https://assets.passiton.com/quotes/quote_artwork/6246/medium/20200323_monday_quote.jpg?1584726442\" width=\"310\"/>,\n",
       " <img alt=\"Life has many ways of testing a person's will, either by having nothing happen at all or by having everything happen all at once. #&lt;Author:0x00007f8ddf86e9e8&gt;\" class=\"margin-10px-bottom shadow\" height=\"310\" src=\"https://assets.passiton.com/quotes/quote_artwork/6554/medium/20200320_friday_quote.jpg?1584123864\" width=\"310\"/>,\n",
       " <img alt=\"Difficulties are meant to rouse, not discourage. The human spirit is to grow strong by conflict. #&lt;Author:0x00007f8ddf88c998&gt;\" class=\"margin-10px-bottom shadow\" height=\"310\" src=\"https://assets.passiton.com/quotes/quote_artwork/7817/medium/20200319_thursday_quote.jpg?1584123829\" width=\"310\"/>,\n",
       " <img alt=\"We need to remember that circumstances don’t make a person, they reveal a person.  #&lt;Author:0x00007f8ddf8b0460&gt;\" class=\"margin-10px-bottom shadow\" height=\"310\" src=\"https://assets.passiton.com/quotes/quote_artwork/6119/medium/20200318_wednesday_quote.jpg?1584123795\" width=\"310\"/>,\n",
       " <img alt=\"No soul that aspires can ever fail to rise; no heart that loves can ever be abandoned. Difficulties exist only that in overcoming them we may grow strong, and they who have suffered are able to save. #&lt;Author:0x00007f8ddf8e2d98&gt;\" class=\"margin-10px-bottom shadow\" height=\"310\" src=\"https://assets.passiton.com/quotes/quote_artwork/6739/medium/20200317_tuesday_quote.jpg?1584123766\" width=\"310\"/>,\n",
       " <img alt=\"Hardships often prepare ordinary people for an extraordinary destiny. #&lt;Author:0x00007f8ddf923000&gt;\" class=\"margin-10px-bottom shadow\" height=\"310\" src=\"https://assets.passiton.com/quotes/quote_artwork/6940/medium/20200316_monday_quote_alternate.jpg?1584125137\" width=\"310\"/>,\n",
       " <img alt=\"For beautiful eyes, look for the good in others; for beautiful lips, speak only words of kindness; and for poise, walk with the knowledge that you are never alone. #&lt;Author:0x00007f8ddf955dc0&gt;\" class=\"margin-10px-bottom shadow\" height=\"310\" src=\"https://assets.passiton.com/quotes/quote_artwork/8049/medium/20200313_friday_quote.jpg?1583521746\" width=\"310\"/>,\n",
       " <img alt=\"Beauty is the illumination of your soul. #&lt;Author:0x00007f8ddf990920&gt;\" class=\"margin-10px-bottom shadow\" height=\"310\" src=\"https://assets.passiton.com/quotes/quote_artwork/8048/medium/20200312_thursday_quote.jpg?1583521723\" width=\"310\"/>,\n",
       " <img alt=\"Beauty is about being comfortable in your own skin. It's about knowing and accepting who you are. #&lt;Author:0x00007f8ddf9c6980&gt;\" class=\"margin-10px-bottom shadow\" height=\"310\" src=\"https://assets.passiton.com/quotes/quote_artwork/7605/medium/20200311_wednesday_quote_fixed.jpg?1583782466\" width=\"310\"/>,\n",
       " <img alt=\"Beauty begins the moment you decide to be yourself. #&lt;Author:0x00007f8ddf9f9fd8&gt;\" class=\"margin-10px-bottom shadow\" height=\"310\" src=\"https://assets.passiton.com/quotes/quote_artwork/7746/medium/20200310_tuesday_quote.jpg?1583521584\" width=\"310\"/>,\n",
       " <img alt=\"Beauty is not in the face; beauty is a light in the heart. #&lt;Author:0x00007f8ddfa29cd8&gt;\" class=\"margin-10px-bottom shadow\" height=\"310\" src=\"https://assets.passiton.com/quotes/quote_artwork/7260/medium/20200309_monday_quote.jpg?1583521556\" width=\"310\"/>,\n",
       " <img alt=\"Life should not be a journey to the grave with the intention of arriving safely in a pretty and well-preserved body, but rather to skid in broadside in a cloud of smoke, thoroughly used up, totally worn out, and loudly proclaiming “Wow! What a Ride!”  #&lt;Author:0x00007f8ddfa5c5c0&gt;\" class=\"margin-10px-bottom shadow\" height=\"310\" src=\"https://assets.passiton.com/quotes/quote_artwork/8047/medium/20200306_friday_quote.jpg?1582921356\" width=\"310\"/>,\n",
       " <img alt=\"If we were meant to stay in one place, we’d have roots instead of feet. #&lt;Author:0x00007f8ddfaa3470&gt;\" class=\"margin-10px-bottom shadow\" height=\"310\" src=\"https://assets.passiton.com/quotes/quote_artwork/8046/medium/20200305_thursday_quote.jpg?1582921071\" width=\"310\"/>,\n",
       " <img alt=\"If you are making mistakes, then you are making new things, trying new things, learning, living, pushing yourself, changing yourself, changing your world. You're doing things you've never done before, and more importantly, you're doing something. #&lt;Author:0x00007f8ddfad93b8&gt;\" class=\"margin-10px-bottom shadow\" height=\"310\" src=\"https://assets.passiton.com/quotes/quote_artwork/8045/medium/20200304_wednesday_quote.jpg?1582921036\" width=\"310\"/>,\n",
       " <img alt=\"Practice the art of adventure by breaking the chain of routine, renewing your life through reading new books, traveling to new places, making new friends, taking up new hobbies and adopting new viewpoints. #&lt;Author:0x00007f8ddfb11ce0&gt;\" class=\"margin-10px-bottom shadow\" height=\"310\" src=\"https://assets.passiton.com/quotes/quote_artwork/8044/medium/20200303_tuesday_quote.jpg?1582920987\" width=\"310\"/>,\n",
       " <img alt=\"When you come to the edge of all that you know, you must believe one of two things: either there will be ground to stand on, or you will be given wings to fly. #&lt;Author:0x00007f8ddfb3de30&gt;\" class=\"margin-10px-bottom shadow\" height=\"310\" src=\"https://assets.passiton.com/quotes/quote_artwork/8043/medium/20200302_monday_quote.jpg?1582920839\" width=\"310\"/>,\n",
       " <img alt=\"Pursue your passion, and everything else will fall into place. This is not being romantic. This is the highest order of pragmatism. #&lt;Author:0x00007f8ddfb750b0&gt;\" class=\"margin-10px-bottom shadow\" height=\"310\" src=\"https://assets.passiton.com/quotes/quote_artwork/8042/medium/20200228_friday_quote.jpg?1582225721\" width=\"310\"/>,\n",
       " <img alt=\"Passion is the genesis of genius. #&lt;Author:0x00007f8ddfbbd798&gt;\" class=\"margin-10px-bottom shadow\" height=\"310\" src=\"https://assets.passiton.com/quotes/quote_artwork/8041/medium/20200227_thursday_quote.jpg?1582225699\" width=\"310\"/>,\n",
       " <img alt=\"Chase down your passion like it’s the last bus of the night. #&lt;Author:0x00007f8dde60c980&gt;\" class=\"margin-10px-bottom shadow\" height=\"310\" src=\"https://assets.passiton.com/quotes/quote_artwork/8040/medium/20200226_wednesday_quote.jpg?1582225676\" width=\"310\"/>,\n",
       " <img alt=\"If you feel like there’s something out there that you’re supposed to be doing, if you have a passion for it, then stop wishing and just do it. #&lt;Author:0x00007f8ddfc2b338&gt;\" class=\"margin-10px-bottom shadow\" height=\"310\" src=\"https://assets.passiton.com/quotes/quote_artwork/8039/medium/20200225_tuesday_quote.jpg?1582225655\" width=\"310\"/>,\n",
       " <img alt=\"Only passions, great passions, can elevate the soul to great things. #&lt;Author:0x00007f8ddfc59f58&gt;\" class=\"margin-10px-bottom shadow\" height=\"310\" src=\"https://assets.passiton.com/quotes/quote_artwork/8038/medium/20200224_monday_quote.jpg?1582225624\" width=\"310\"/>,\n",
       " <img alt=\"Become a possibilitarian. No matter how dark things seem to be or actually are, raise your sights and see possibilities—always see them, for they’re always there. #&lt;Author:0x00007f8ddfca46e8&gt;\" class=\"margin-10px-bottom shadow\" height=\"310\" src=\"https://assets.passiton.com/quotes/quote_artwork/6732/medium/20200221_friday_quote_alt.jpg?1581798126\" width=\"310\"/>,\n",
       " <img alt=\"Choose to be optimistic, it feels better. #&lt;Author:0x00007f8ddfcc6400&gt;\" class=\"margin-10px-bottom shadow\" height=\"310\" src=\"https://assets.passiton.com/quotes/quote_artwork/8037/medium/20200220_thursday_quote_alt.jpg?1581798108\" width=\"310\"/>,\n",
       " <img alt=\"Happiness can be found in even the darkest of times, if only one remembers to turn on the light. #&lt;Author:0x00007f8ddfcf2a78&gt;\" class=\"margin-10px-bottom shadow\" height=\"310\" src=\"https://assets.passiton.com/quotes/quote_artwork/6615/medium/20200219_wednesday_quote.jpg?1581786402\" width=\"310\"/>,\n",
       " <img alt=\"Nothing is impossible, the word itself says, ‘I’m possible’! #&lt;Author:0x00007f8ddfd266e8&gt;\" class=\"margin-10px-bottom shadow\" height=\"310\" src=\"https://assets.passiton.com/quotes/quote_artwork/6241/medium/20200218_tuesday_quote.jpg?1581786378\" width=\"310\"/>]"
      ]
     },
     "execution_count": 64,
     "metadata": {},
     "output_type": "execute_result"
    }
   ],
   "source": [
    "img_atter"
   ]
  },
  {
   "cell_type": "code",
   "execution_count": 65,
   "metadata": {},
   "outputs": [
    {
     "data": {
      "text/plain": [
       "'https://assets.passiton.com/quotes/quote_artwork/4069/medium/20200325_wednesday_quote_alternate.jpg?1584748370'"
      ]
     },
     "execution_count": 65,
     "metadata": {},
     "output_type": "execute_result"
    }
   ],
   "source": [
    "img_atter[5].attrs['src']"
   ]
  },
  {
   "cell_type": "code",
   "execution_count": 51,
   "metadata": {},
   "outputs": [],
   "source": [
    "with open(\"isp_img.jpg\",'wb') as f:\n",
    "    artt=img_atter[1].attrs['src']\n",
    "    responce=requests.get(artt)\n",
    "    \n",
    "    f.write(responce.content)"
   ]
  },
  {
   "cell_type": "code",
   "execution_count": 69,
   "metadata": {},
   "outputs": [],
   "source": [
    "for i,img_urll in enumerate(img_atter):\n",
    "    with open(\"inspration{}.jpg\".format(i),'wb') as f:\n",
    "        img_url=img_urll.attrs['src']\n",
    "        responce=requests.get(img_url)\n",
    "        f.write(responce.content)"
   ]
  },
  {
   "cell_type": "code",
   "execution_count": 67,
   "metadata": {},
   "outputs": [
    {
     "name": "stdout",
     "output_type": "stream",
     "text": [
      "https://assets.passiton.com/quotes/quote_artwork/6905/medium/20200401_wednesday_quote.jpg?1585244244\n",
      "https://assets.passiton.com/quotes/quote_artwork/3623/medium/20200331_tuesday_quote.jpg?1585244218\n",
      "https://assets.passiton.com/quotes/quote_artwork/7377/medium/20200330_monday_quote_alt.jpg?1585330598\n",
      "https://assets.passiton.com/quotes/quote_artwork/8054/medium/20200327_friday_quote.jpg?1584726568\n",
      "https://assets.passiton.com/quotes/quote_artwork/8053/medium/20200326_thursday_quote.jpg?1584726539\n",
      "https://assets.passiton.com/quotes/quote_artwork/4069/medium/20200325_wednesday_quote_alternate.jpg?1584748370\n",
      "https://assets.passiton.com/quotes/quote_artwork/8052/medium/20200324_tuesday_quote.jpg?1584726475\n",
      "https://assets.passiton.com/quotes/quote_artwork/6246/medium/20200323_monday_quote.jpg?1584726442\n",
      "https://assets.passiton.com/quotes/quote_artwork/6554/medium/20200320_friday_quote.jpg?1584123864\n",
      "https://assets.passiton.com/quotes/quote_artwork/7817/medium/20200319_thursday_quote.jpg?1584123829\n",
      "https://assets.passiton.com/quotes/quote_artwork/6119/medium/20200318_wednesday_quote.jpg?1584123795\n",
      "https://assets.passiton.com/quotes/quote_artwork/6739/medium/20200317_tuesday_quote.jpg?1584123766\n",
      "https://assets.passiton.com/quotes/quote_artwork/6940/medium/20200316_monday_quote_alternate.jpg?1584125137\n",
      "https://assets.passiton.com/quotes/quote_artwork/8049/medium/20200313_friday_quote.jpg?1583521746\n",
      "https://assets.passiton.com/quotes/quote_artwork/8048/medium/20200312_thursday_quote.jpg?1583521723\n",
      "https://assets.passiton.com/quotes/quote_artwork/7605/medium/20200311_wednesday_quote_fixed.jpg?1583782466\n",
      "https://assets.passiton.com/quotes/quote_artwork/7746/medium/20200310_tuesday_quote.jpg?1583521584\n",
      "https://assets.passiton.com/quotes/quote_artwork/7260/medium/20200309_monday_quote.jpg?1583521556\n",
      "https://assets.passiton.com/quotes/quote_artwork/8047/medium/20200306_friday_quote.jpg?1582921356\n",
      "https://assets.passiton.com/quotes/quote_artwork/8046/medium/20200305_thursday_quote.jpg?1582921071\n",
      "https://assets.passiton.com/quotes/quote_artwork/8045/medium/20200304_wednesday_quote.jpg?1582921036\n",
      "https://assets.passiton.com/quotes/quote_artwork/8044/medium/20200303_tuesday_quote.jpg?1582920987\n",
      "https://assets.passiton.com/quotes/quote_artwork/8043/medium/20200302_monday_quote.jpg?1582920839\n",
      "https://assets.passiton.com/quotes/quote_artwork/8042/medium/20200228_friday_quote.jpg?1582225721\n",
      "https://assets.passiton.com/quotes/quote_artwork/8041/medium/20200227_thursday_quote.jpg?1582225699\n",
      "https://assets.passiton.com/quotes/quote_artwork/8040/medium/20200226_wednesday_quote.jpg?1582225676\n",
      "https://assets.passiton.com/quotes/quote_artwork/8039/medium/20200225_tuesday_quote.jpg?1582225655\n",
      "https://assets.passiton.com/quotes/quote_artwork/8038/medium/20200224_monday_quote.jpg?1582225624\n",
      "https://assets.passiton.com/quotes/quote_artwork/6732/medium/20200221_friday_quote_alt.jpg?1581798126\n",
      "https://assets.passiton.com/quotes/quote_artwork/8037/medium/20200220_thursday_quote_alt.jpg?1581798108\n",
      "https://assets.passiton.com/quotes/quote_artwork/6615/medium/20200219_wednesday_quote.jpg?1581786402\n",
      "https://assets.passiton.com/quotes/quote_artwork/6241/medium/20200218_tuesday_quote.jpg?1581786378\n"
     ]
    }
   ],
   "source": [
    "i=0\n",
    "for img_urll in img_atter:\n",
    "    with open(\"inspration{}.jpg\".format(i),'wb') as f:\n",
    "    img_url=img_urll.attrs['src']\n",
    "    responce=requests.get(img_url)\n",
    "    "
   ]
  },
  {
   "cell_type": "code",
   "execution_count": null,
   "metadata": {},
   "outputs": [],
   "source": []
  }
 ],
 "metadata": {
  "kernelspec": {
   "display_name": "Python 3",
   "language": "python",
   "name": "python3"
  },
  "language_info": {
   "codemirror_mode": {
    "name": "ipython",
    "version": 3
   },
   "file_extension": ".py",
   "mimetype": "text/x-python",
   "name": "python",
   "nbconvert_exporter": "python",
   "pygments_lexer": "ipython3",
   "version": "3.8.3"
  }
 },
 "nbformat": 4,
 "nbformat_minor": 4
}
